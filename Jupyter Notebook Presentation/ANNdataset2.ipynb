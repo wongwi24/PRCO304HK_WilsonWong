{
 "cells": [
  {
   "cell_type": "code",
   "execution_count": 1,
   "id": "national-california",
   "metadata": {},
   "outputs": [],
   "source": [
    "import numpy as np\n",
    "import pandas as pd\n",
    "import seaborn as sb\n",
    "import matplotlib.pyplot as plt\n",
    "from sklearn.pipeline import Pipeline\n",
    "from sklearn.impute import SimpleImputer\n",
    "from sklearn.compose import ColumnTransformer\n",
    "from sklearn.preprocessing import OneHotEncoder\n",
    "from sklearn.preprocessing import LabelEncoder\n",
    "from sklearn.preprocessing import StandardScaler\n",
    "from sklearn.preprocessing import MinMaxScaler\n",
    "import tensorflow as tf\n",
    "train_id = pd.read_csv('creditcard_dataset2.csv/train_identity.csv')\n",
    "train_trans = pd.read_csv('creditcard_dataset2.csv/train_transaction.csv')"
   ]
  },
  {
   "cell_type": "code",
   "execution_count": 2,
   "id": "ancient-adapter",
   "metadata": {},
   "outputs": [
    {
     "name": "stdout",
     "output_type": "stream",
     "text": [
      "(144233, 41)\n",
      "(590540, 394)\n"
     ]
    }
   ],
   "source": [
    "print(train_id.shape)\n",
    "print(train_trans.shape)"
   ]
  },
  {
   "cell_type": "code",
   "execution_count": 3,
   "id": "different-casino",
   "metadata": {},
   "outputs": [
    {
     "data": {
      "text/plain": [
       "TransactionID          0\n",
       "isFraud                0\n",
       "TransactionDT          0\n",
       "TransactionAmt         0\n",
       "ProductCD              0\n",
       "                   ...  \n",
       "id_36             449555\n",
       "id_37             449555\n",
       "id_38             449555\n",
       "DeviceType        449730\n",
       "DeviceInfo        471874\n",
       "Length: 434, dtype: int64"
      ]
     },
     "execution_count": 3,
     "metadata": {},
     "output_type": "execute_result"
    }
   ],
   "source": [
    "#Merge Transaction and Identity table\n",
    "train = train_trans.merge(train_id, how='left', on='TransactionID') \n",
    "#Check for missing values\n",
    "train.isnull().sum()"
   ]
  },
  {
   "cell_type": "code",
   "execution_count": 4,
   "id": "prerequisite-netherlands",
   "metadata": {},
   "outputs": [],
   "source": [
    "del train_id\n",
    "del train_trans"
   ]
  },
  {
   "cell_type": "code",
   "execution_count": 5,
   "id": "naval-personality",
   "metadata": {},
   "outputs": [
    {
     "name": "stdout",
     "output_type": "stream",
     "text": [
      "dist2 % NaN: 0.9362837403054831\n",
      "D6 % NaN: 0.8760676668811597\n",
      "D7 % NaN: 0.9340992989467267\n",
      "D8 % NaN: 0.8731229044603245\n",
      "D9 % NaN: 0.8731229044603245\n",
      "D12 % NaN: 0.8904104717715988\n",
      "D13 % NaN: 0.8950926270870728\n",
      "D14 % NaN: 0.8946946862193924\n",
      "V138 % NaN: 0.8612371727571375\n",
      "V139 % NaN: 0.8612371727571375\n",
      "V140 % NaN: 0.8612371727571375\n",
      "V141 % NaN: 0.8612371727571375\n",
      "V142 % NaN: 0.8612371727571375\n",
      "V143 % NaN: 0.8612270125647712\n",
      "V144 % NaN: 0.8612270125647712\n",
      "V145 % NaN: 0.8612270125647712\n",
      "V146 % NaN: 0.8612371727571375\n",
      "V147 % NaN: 0.8612371727571375\n",
      "V148 % NaN: 0.8612371727571375\n",
      "V149 % NaN: 0.8612371727571375\n",
      "V150 % NaN: 0.8612270125647712\n",
      "V151 % NaN: 0.8612270125647712\n",
      "V152 % NaN: 0.8612270125647712\n",
      "V153 % NaN: 0.8612371727571375\n",
      "V154 % NaN: 0.8612371727571375\n",
      "V155 % NaN: 0.8612371727571375\n",
      "V156 % NaN: 0.8612371727571375\n",
      "V157 % NaN: 0.8612371727571375\n",
      "V158 % NaN: 0.8612371727571375\n",
      "V159 % NaN: 0.8612270125647712\n",
      "V160 % NaN: 0.8612270125647712\n",
      "V161 % NaN: 0.8612371727571375\n",
      "V162 % NaN: 0.8612371727571375\n",
      "V163 % NaN: 0.8612371727571375\n",
      "V164 % NaN: 0.8612270125647712\n",
      "V165 % NaN: 0.8612270125647712\n",
      "V166 % NaN: 0.8612270125647712\n",
      "V322 % NaN: 0.8605496664070174\n",
      "V323 % NaN: 0.8605496664070174\n",
      "V324 % NaN: 0.8605496664070174\n",
      "V325 % NaN: 0.8605496664070174\n",
      "V326 % NaN: 0.8605496664070174\n",
      "V327 % NaN: 0.8605496664070174\n",
      "V328 % NaN: 0.8605496664070174\n",
      "V329 % NaN: 0.8605496664070174\n",
      "V330 % NaN: 0.8605496664070174\n",
      "V331 % NaN: 0.8605496664070174\n",
      "V332 % NaN: 0.8605496664070174\n",
      "V333 % NaN: 0.8605496664070174\n",
      "V334 % NaN: 0.8605496664070174\n",
      "V335 % NaN: 0.8605496664070174\n",
      "V336 % NaN: 0.8605496664070174\n",
      "V337 % NaN: 0.8605496664070174\n",
      "V338 % NaN: 0.8605496664070174\n",
      "V339 % NaN: 0.8605496664070174\n",
      "id_03 % NaN: 0.8876892335828225\n",
      "id_04 % NaN: 0.8876892335828225\n",
      "id_07 % NaN: 0.9912707013919464\n",
      "id_08 % NaN: 0.9912707013919464\n",
      "id_09 % NaN: 0.8731229044603245\n",
      "id_10 % NaN: 0.8731229044603245\n",
      "id_14 % NaN: 0.8644562603718631\n",
      "id_18 % NaN: 0.9236072069631185\n",
      "id_21 % NaN: 0.9912639279303688\n",
      "id_22 % NaN: 0.9912469942764249\n",
      "id_23 % NaN: 0.9912469942764249\n",
      "id_24 % NaN: 0.9919615944728554\n",
      "id_25 % NaN: 0.9913096487960172\n",
      "id_26 % NaN: 0.9912571544687913\n",
      "id_27 % NaN: 0.9912469942764249\n",
      "id_30 % NaN: 0.868654113184543\n",
      "id_32 % NaN: 0.8686185525112609\n",
      "id_33 % NaN: 0.8758949436109323\n",
      "id_34 % NaN: 0.8682477054898906\n"
     ]
    }
   ],
   "source": [
    "#Remove high missing value columns\n",
    "columnsToDelete = []\n",
    "for col in train.columns:\n",
    "    if(train[col].isnull().sum()/len(train[col]) >= 0.8):\n",
    "        print(col, \"% NaN:\", train[col].isnull().sum()/len(train[col]))\n",
    "        columnsToDelete.append(col)"
   ]
  },
  {
   "cell_type": "code",
   "execution_count": 6,
   "id": "democratic-congress",
   "metadata": {},
   "outputs": [],
   "source": [
    "train = train.drop(columns=columnsToDelete)"
   ]
  },
  {
   "cell_type": "code",
   "execution_count": 7,
   "id": "incident-victim",
   "metadata": {},
   "outputs": [],
   "source": [
    "v_columns = []\n",
    "for col in ['V'+str(x) for x in range(1,340)]:\n",
    "    if col in train.columns:\n",
    "        v_columns.append(col)"
   ]
  },
  {
   "cell_type": "code",
   "execution_count": 8,
   "id": "mature-gasoline",
   "metadata": {},
   "outputs": [
    {
     "name": "stdout",
     "output_type": "stream",
     "text": [
      "24\n",
      "12\n",
      "30\n"
     ]
    }
   ],
   "source": [
    "cat_label_features = [\"card1\",\"card2\",\"card3\",\"card5\", \"addr1\", \"addr2\", \"id_13\",\"id_17\",\"id_19\",\"id_20\",\"id_31\",\"DeviceInfo\"]\n",
    "num_features = []\n",
    "cat_onehot_features = [\"ProductCD\",\"card4\",\"card6\", \"M1\",\"M2\",\"M3\",\"M4\",\"M5\",\"M6\",\"M7\",\"M8\",\"M9\",\"id_12\",\"id_15\",\n",
    "                      \"id_16\",\"id_28\",\"id_29\",\"id_35\",\"id_36\",\"id_37\",\"id_38\",\"DeviceType\",\"P_emaildomain\",\n",
    "                       \"R_emaildomain\"]\n",
    "for col in train.columns:\n",
    "    if col not in cat_label_features and col not in v_columns and col not in cat_onehot_features:\n",
    "        num_features.append(col)\n",
    "num_features.remove('isFraud')\n",
    "num_features.remove('TransactionID')\n",
    "\n",
    "print(len(cat_onehot_features))\n",
    "print(len(cat_label_features))\n",
    "print(len(num_features))"
   ]
  },
  {
   "cell_type": "code",
   "execution_count": 9,
   "id": "dressed-yorkshire",
   "metadata": {},
   "outputs": [],
   "source": [
    "emails = {'gmail': 'google', 'att.net': 'att', 'twc.com': 'spectrum', 'scranton.edu': 'other', 'optonline.net': 'other',\n",
    "          'hotmail.co.uk': 'microsoft', 'comcast.net': 'other', 'yahoo.com.mx': 'yahoo', 'yahoo.fr': 'yahoo',\n",
    "          'yahoo.es': 'yahoo', 'charter.net': 'spectrum', 'live.com': 'microsoft', 'aim.com': 'aol', 'hotmail.de': 'microsoft',\n",
    "          'centurylink.net': 'centurylink', 'gmail.com': 'google', 'me.com': 'apple', 'earthlink.net': 'other', \n",
    "          'gmx.de': 'other', 'web.de': 'other', 'cfl.rr.com': 'other', 'hotmail.com': 'microsoft', 'protonmail.com': 'other',\n",
    "          'hotmail.fr': 'microsoft', 'windstream.net': 'other', 'outlook.es': 'microsoft', 'yahoo.co.jp': 'yahoo',\n",
    "          'yahoo.de': 'yahoo', 'servicios-ta.com': 'other', 'netzero.net': 'other', 'suddenlink.net': 'other',\n",
    "          'roadrunner.com': 'other', 'sc.rr.com': 'other', 'live.fr': 'microsoft', 'verizon.net': 'yahoo',\n",
    "          'msn.com': 'microsoft', 'q.com': 'centurylink', 'prodigy.net.mx': 'att', 'frontier.com': 'yahoo',\n",
    "          'anonymous.com': 'other', 'rocketmail.com': 'yahoo', 'sbcglobal.net': 'att', 'frontiernet.net': 'yahoo',\n",
    "          'ymail.com': 'yahoo', 'outlook.com': 'microsoft', 'mail.com': 'other', 'bellsouth.net': 'other',\n",
    "          'embarqmail.com': 'centurylink', 'cableone.net': 'other', 'hotmail.es': 'microsoft', 'mac.com': 'apple',\n",
    "          'yahoo.co.uk': 'yahoo', 'netzero.com': 'other', 'yahoo.com': 'yahoo', 'live.com.mx': 'microsoft', 'ptd.net': 'other',\n",
    "          'cox.net': 'other', 'aol.com': 'aol', 'juno.com': 'other', 'icloud.com': 'apple'}\n",
    "us_emails = ['gmail', 'net', 'edu']\n",
    "\n",
    "for c in ['P_emaildomain', 'R_emaildomain']:\n",
    "    train[c] = train[c].map(emails)"
   ]
  },
  {
   "cell_type": "code",
   "execution_count": 10,
   "id": "substantial-longer",
   "metadata": {},
   "outputs": [],
   "source": [
    "train[\"new_browser\"] = np.zeros(train.shape[0])\n",
    "\n",
    "def setBinaryBrowser(df):\n",
    "    df.loc[df[\"id_31\"]==\"samsung browser 7.0\",'new_browser']=1\n",
    "    df.loc[df[\"id_31\"]==\"opera 53.0\",'new_browser']=1\n",
    "    df.loc[df[\"id_31\"]==\"mobile safari 10.0\",'new_browser']=1\n",
    "    df.loc[df[\"id_31\"]==\"google search application 49.0\",'new_browser']=1\n",
    "    df.loc[df[\"id_31\"]==\"firefox 60.0\",'new_browser']=1\n",
    "    df.loc[df[\"id_31\"]==\"edge 17.0\",'new_browser']=1\n",
    "    df.loc[df[\"id_31\"]==\"chrome 69.0\",'new_browser']=1\n",
    "    df.loc[df[\"id_31\"]==\"chrome 67.0 for android\",'new_browser']=1\n",
    "    df.loc[df[\"id_31\"]==\"chrome 63.0 for android\",'new_browser']=1\n",
    "    df.loc[df[\"id_31\"]==\"chrome 63.0 for ios\",'new_browser']=1\n",
    "    df.loc[df[\"id_31\"]==\"chrome 64.0\",'new_browser']=1\n",
    "    df.loc[df[\"id_31\"]==\"chrome 64.0 for android\",'new_browser']=1\n",
    "    df.loc[df[\"id_31\"]==\"chrome 64.0 for ios\",'new_browser']=1\n",
    "    df.loc[df[\"id_31\"]==\"chrome 65.0\",'new_browser']=1\n",
    "    df.loc[df[\"id_31\"]==\"chrome 65.0 for android\",'new_browser']=1\n",
    "    df.loc[df[\"id_31\"]==\"chrome 65.0 for ios\",'new_browser']=1\n",
    "    df.loc[df[\"id_31\"]==\"chrome 66.0\",'new_browser']=1\n",
    "    df.loc[df[\"id_31\"]==\"chrome 66.0 for android\",'new_browser']=1\n",
    "    df.loc[df[\"id_31\"]==\"chrome 66.0 for ios\",'new_browser']=1\n",
    "    return df\n",
    "\n",
    "train = setBinaryBrowser(train)\n",
    "cat_label_features.remove('id_31')\n",
    "cat_onehot_features.append('new_browser')\n",
    "train = train.drop(columns='id_31')"
   ]
  },
  {
   "cell_type": "code",
   "execution_count": 11,
   "id": "prompt-repeat",
   "metadata": {},
   "outputs": [],
   "source": [
    "def transform_hour(df, col='TransactionDT'):\n",
    "    hours = df[col] / (3600)        \n",
    "    hours = np.floor(hours) % 24\n",
    "    return hours\n",
    "\n",
    "train['hours'] = transform_hour(train)\n",
    "num_features.remove('TransactionDT')\n",
    "cat_onehot_features.append('hours')"
   ]
  },
  {
   "cell_type": "code",
   "execution_count": 12,
   "id": "frank-prison",
   "metadata": {},
   "outputs": [],
   "source": [
    "num_transformer = Pipeline(\n",
    "    steps = [\n",
    "        ('imputer', SimpleImputer(strategy='median')),\n",
    "        ('scaler', StandardScaler())  \n",
    "    ]\n",
    ")\n",
    "\n",
    "v_transformer = Pipeline(\n",
    "    steps = [\n",
    "        ('imputer', SimpleImputer(strategy='median')),\n",
    "        ('scaler', StandardScaler())\n",
    "    ]\n",
    ")\n",
    "\n",
    "cat_transformer = Pipeline(\n",
    "    steps = [\n",
    "        ('imputer', SimpleImputer(strategy='most_frequent')),\n",
    "        ('onehot', OneHotEncoder())\n",
    "    ]\n",
    ")\n",
    "\n",
    "preprocessor_c = ColumnTransformer(\n",
    "    transformers = [\n",
    "        ('cat', cat_transformer, cat_onehot_features)\n",
    "    ]\n",
    ")\n",
    "\n",
    "preprocessor_v = ColumnTransformer(\n",
    "    transformers = [\n",
    "        ('v', v_transformer, v_columns)\n",
    "    ]\n",
    ")\n",
    "\n",
    "preprocessor_num = ColumnTransformer(\n",
    "    transformers = [\n",
    "        ('num', num_transformer, num_features)\n",
    "    ]\n",
    ")"
   ]
  },
  {
   "cell_type": "code",
   "execution_count": 13,
   "id": "pretty-shopping",
   "metadata": {},
   "outputs": [],
   "source": [
    "for col in cat_label_features:\n",
    "    train[col] = train[col].fillna(train[col].mode()[0])\n",
    "\n",
    "le = LabelEncoder()\n",
    "train[cat_label_features] = train[[\"card1\",\"card2\",\"card3\",\"card5\", \"addr1\",\n",
    "                                   \"addr2\", \"id_13\",\"id_17\",\"id_19\",\"id_20\",\"DeviceInfo\"]].apply(le.fit_transform)"
   ]
  },
  {
   "cell_type": "code",
   "execution_count": 14,
   "id": "expanded-romantic",
   "metadata": {},
   "outputs": [],
   "source": [
    "from sklearn.model_selection import train_test_split\n",
    "y_train = train.isFraud.values\n",
    "x_train, x_test, y_train, y_test = train_test_split(train, y_train, stratify = y_train, test_size = 0.25, random_state = 5)"
   ]
  },
  {
   "cell_type": "code",
   "execution_count": 15,
   "id": "parliamentary-yield",
   "metadata": {},
   "outputs": [
    {
     "name": "stdout",
     "output_type": "stream",
     "text": [
      "(442905, 11)\n"
     ]
    }
   ],
   "source": [
    "x_train_cat_label = x_train[cat_label_features]\n",
    "x_test_cat_label = x_test[cat_label_features]\n",
    "mms = MinMaxScaler()\n",
    "x_train_cat_label = mms.fit_transform(x_train_cat_label)\n",
    "x_test_cat_label = mms.transform(x_test_cat_label)\n",
    "print(x_train_cat_label.shape)"
   ]
  },
  {
   "cell_type": "code",
   "execution_count": 16,
   "id": "advised-queensland",
   "metadata": {},
   "outputs": [],
   "source": [
    "preprocessor_c.fit(x_train[cat_onehot_features])\n",
    "x_train_cat_onehot = preprocessor_c.transform(x_train[cat_onehot_features])\n",
    "x_test_cat_onehot = preprocessor_c.transform(x_test[cat_onehot_features])"
   ]
  },
  {
   "cell_type": "code",
   "execution_count": 17,
   "id": "bored-screening",
   "metadata": {},
   "outputs": [
    {
     "name": "stdout",
     "output_type": "stream",
     "text": [
      "(442905, 97)\n"
     ]
    }
   ],
   "source": [
    "x_train_cat_onehot = x_train_cat_onehot.toarray()\n",
    "x_test_cat_onehot = x_test_cat_onehot.toarray()\n",
    "print(x_train_cat_onehot.shape)"
   ]
  },
  {
   "cell_type": "code",
   "execution_count": 18,
   "id": "treated-librarian",
   "metadata": {},
   "outputs": [
    {
     "name": "stdout",
     "output_type": "stream",
     "text": [
      "(442905, 292)\n"
     ]
    }
   ],
   "source": [
    "preprocessor_v.fit(x_train[v_columns])\n",
    "x_train_v = preprocessor_v.transform(x_train[v_columns])\n",
    "x_test_v = preprocessor_v.transform(x_test[v_columns])\n",
    "print(x_train_v.shape)"
   ]
  },
  {
   "cell_type": "code",
   "execution_count": 19,
   "id": "orange-mystery",
   "metadata": {},
   "outputs": [
    {
     "name": "stdout",
     "output_type": "stream",
     "text": [
      "(442905, 85)\n"
     ]
    }
   ],
   "source": [
    "#Dimension reduction\n",
    "from sklearn.decomposition import PCA\n",
    "pca = PCA(n_components = 0.95)\n",
    "x_train_v = pca.fit_transform(x_train_v)\n",
    "x_test_v = pca.transform(x_test_v)\n",
    "var_explained = pca.explained_variance_ratio_.sum()\n",
    "print(x_train_v.shape)"
   ]
  },
  {
   "cell_type": "code",
   "execution_count": 20,
   "id": "chicken-snapshot",
   "metadata": {},
   "outputs": [
    {
     "name": "stdout",
     "output_type": "stream",
     "text": [
      "(442905, 29)\n",
      "(147635, 29)\n"
     ]
    }
   ],
   "source": [
    "preprocessor_num.fit(x_train[num_features])\n",
    "x_train_num = preprocessor_num.transform(x_train[num_features])\n",
    "x_test_num = preprocessor_num.transform(x_test[num_features])\n",
    "print(x_train_num.shape)\n",
    "print(x_test_num.shape)"
   ]
  },
  {
   "cell_type": "code",
   "execution_count": 21,
   "id": "continued-major",
   "metadata": {},
   "outputs": [
    {
     "name": "stdout",
     "output_type": "stream",
     "text": [
      "(442905, 222)\n",
      "(147635, 222)\n"
     ]
    }
   ],
   "source": [
    "x_train_num = x_train_num.astype('float32')\n",
    "x_test_num = x_test_num.astype('float32')\n",
    "x_train = np.concatenate((x_train_num, x_train_cat_label, x_train_v, x_train_cat_onehot), axis = 1)\n",
    "x_test = np.concatenate((x_test_num, x_test_cat_label, x_test_v, x_test_cat_onehot), axis = 1)\n",
    "print(x_train.shape)\n",
    "print(x_test.shape)"
   ]
  },
  {
   "cell_type": "code",
   "execution_count": 22,
   "id": "streaming-government",
   "metadata": {},
   "outputs": [],
   "source": [
    "from sklearn.metrics import accuracy_score, confusion_matrix, recall_score, f1_score, precision_score, matthews_corrcoef\n",
    "\n",
    "\n",
    "def print_classification_result(true, predict):\n",
    "    print(f\"Accuracy Score: {accuracy_score(true, predict) * 100:.2f}%\")\n",
    "    print(f\"Confusion Matrix: \\n {confusion_matrix(true, predict)}\\n\")\n",
    "    print(f\"MCC_Score:{matthews_corrcoef(true, predict)}\\n\")\n",
    "    print(f\"f1_score: \\n {f1_score(true, predict)}\\n\")\n",
    "    print(f\"recall_score: \\n {recall_score(true, predict)}\\n\")\n",
    "    print(f\"Precision_Score:{precision_score(true, predict)}\")"
   ]
  },
  {
   "cell_type": "markdown",
   "id": "pleased-budapest",
   "metadata": {},
   "source": [
    "## Artificial Neural Network"
   ]
  },
  {
   "cell_type": "code",
   "execution_count": 23,
   "id": "healthy-female",
   "metadata": {},
   "outputs": [],
   "source": [
    "ann = tf.keras.models.Sequential()"
   ]
  },
  {
   "cell_type": "code",
   "execution_count": 24,
   "id": "wired-cooking",
   "metadata": {},
   "outputs": [],
   "source": [
    "ann.add(tf.keras.layers.Dense(units = x_train.shape[1] + 1, activation = \"relu\"))\n",
    "ann.add(tf.keras.layers.Dense(units = x_train.shape[1]/2, activation = \"relu\"))\n",
    "ann.add(tf.keras.layers.Dense(units = 1, activation = \"sigmoid\"))"
   ]
  },
  {
   "cell_type": "code",
   "execution_count": 25,
   "id": "piano-province",
   "metadata": {},
   "outputs": [],
   "source": [
    "ann.compile(optimizer = 'adam', loss = 'binary_crossentropy', metrics = ['accuracy'])"
   ]
  },
  {
   "cell_type": "code",
   "execution_count": 26,
   "id": "excessive-least",
   "metadata": {},
   "outputs": [
    {
     "name": "stdout",
     "output_type": "stream",
     "text": [
      "Epoch 1/10\n",
      "9689/9689 [==============================] - 7s 741us/step - loss: 0.1069 - accuracy: 0.9718 - val_loss: 0.0990 - val_accuracy: 0.9735\n",
      "Epoch 2/10\n",
      "9689/9689 [==============================] - 7s 736us/step - loss: 0.0952 - accuracy: 0.9744 - val_loss: 0.0917 - val_accuracy: 0.9749\n",
      "Epoch 3/10\n",
      "9689/9689 [==============================] - 7s 732us/step - loss: 0.0892 - accuracy: 0.9758 - val_loss: 0.0889 - val_accuracy: 0.9755\n",
      "Epoch 4/10\n",
      "9689/9689 [==============================] - 7s 739us/step - loss: 0.0841 - accuracy: 0.9769 - val_loss: 0.0855 - val_accuracy: 0.9761\n",
      "Epoch 5/10\n",
      "9689/9689 [==============================] - 7s 754us/step - loss: 0.0803 - accuracy: 0.9777 - val_loss: 0.0854 - val_accuracy: 0.9765\n",
      "Epoch 6/10\n",
      "9689/9689 [==============================] - 7s 735us/step - loss: 0.0769 - accuracy: 0.9787 - val_loss: 0.0844 - val_accuracy: 0.9766\n",
      "Epoch 7/10\n",
      "9689/9689 [==============================] - 7s 748us/step - loss: 0.0735 - accuracy: 0.9795 - val_loss: 0.0849 - val_accuracy: 0.9775\n",
      "Epoch 8/10\n",
      "9689/9689 [==============================] - 7s 729us/step - loss: 0.0708 - accuracy: 0.9803 - val_loss: 0.0846 - val_accuracy: 0.9776\n",
      "Epoch 9/10\n",
      "9689/9689 [==============================] - 7s 755us/step - loss: 0.0683 - accuracy: 0.9811 - val_loss: 0.0834 - val_accuracy: 0.9782\n",
      "Epoch 10/10\n",
      "9689/9689 [==============================] - 7s 748us/step - loss: 0.0658 - accuracy: 0.9816 - val_loss: 0.0845 - val_accuracy: 0.9782\n"
     ]
    }
   ],
   "source": [
    "loss = ann.fit(x_train, y_train, batch_size = 32, epochs = 10, validation_split = 0.3)"
   ]
  },
  {
   "cell_type": "code",
   "execution_count": 27,
   "id": "extended-unknown",
   "metadata": {},
   "outputs": [
    {
     "data": {
      "image/png": "[encoded data removed]",
      "text/plain": [
       "<Figure size 432x288 with 1 Axes>"
      ]
     },
     "metadata": {
      "needs_background": "light"
     },
     "output_type": "display_data"
    }
   ],
   "source": [
    "plt.plot(loss.history['loss'])\n",
    "plt.plot(loss.history['val_loss'])\n",
    "plt.title('model loss')\n",
    "plt.ylabel('loss')\n",
    "plt.xlabel('epoch')\n",
    "plt.legend(['train', 'test'], loc='upper left')\n",
    "plt.show()"
   ]
  },
  {
   "cell_type": "code",
   "execution_count": 28,
   "id": "japanese-medicine",
   "metadata": {},
   "outputs": [
    {
     "name": "stdout",
     "output_type": "stream",
     "text": [
      "Accuracy Score: 97.77%\n",
      "Confusion Matrix: \n",
      " [[142037    432]\n",
      " [  2860   2306]]\n",
      "\n",
      "MCC_Score:0.6038591682754499\n",
      "\n",
      "f1_score: \n",
      " 0.5835020242914979\n",
      "\n",
      "recall_score: \n",
      " 0.44638017808749514\n",
      "\n",
      "Precision_Score:0.8422205989773557\n"
     ]
    }
   ],
   "source": [
    "y_pred = ann.predict(x_test)\n",
    "y_pred = np.round(y_pred)\n",
    "print_classification_result(y_test, y_pred)"
   ]
  },
  {
   "cell_type": "code",
   "execution_count": 29,
   "id": "unlimited-console",
   "metadata": {},
   "outputs": [
    {
     "data": {
      "image/png": "[encoded data removed]",
      "text/plain": [
       "<Figure size 504x360 with 2 Axes>"
      ]
     },
     "metadata": {
      "needs_background": "light"
     },
     "output_type": "display_data"
    }
   ],
   "source": [
    "from sklearn.metrics import plot_confusion_matrix\n",
    "plt.figure(figsize = (7,5))\n",
    "cm = sb.heatmap(confusion_matrix(y_test, y_pred), annot=True, cmap='Blues', fmt='d')\n",
    "cm.set_title('Artificial Neural Network')\n",
    "plt.show()"
   ]
  },
  {
   "cell_type": "markdown",
   "id": "sunrise-boost",
   "metadata": {},
   "source": [
    "## Parameter Testing"
   ]
  },
  {
   "cell_type": "code",
   "execution_count": 44,
   "id": "monetary-paper",
   "metadata": {},
   "outputs": [],
   "source": [
    "ann = tf.keras.models.Sequential()\n",
    "ann.add(tf.keras.layers.Dense(units = x_train.shape[1] + 1, activation = \"relu\"))\n",
    "ann.add(tf.keras.layers.Dense(units = (x_train.shape[1]/2) + 20, activation = \"relu\"))\n",
    "ann.add(tf.keras.layers.Dense(units = 1, activation = \"sigmoid\"))\n",
    "ann.compile(optimizer = 'adam', loss = 'binary_crossentropy', metrics = ['accuracy'])"
   ]
  },
  {
   "cell_type": "code",
   "execution_count": 45,
   "id": "opening-pointer",
   "metadata": {},
   "outputs": [
    {
     "name": "stdout",
     "output_type": "stream",
     "text": [
      "Epoch 1/11\n",
      "9689/9689 [==============================] - 8s 817us/step - loss: 0.1062 - accuracy: 0.9719 - val_loss: 0.0997 - val_accuracy: 0.9728\n",
      "Epoch 2/11\n",
      "9689/9689 [==============================] - 7s 754us/step - loss: 0.0954 - accuracy: 0.9744 - val_loss: 0.0928 - val_accuracy: 0.9750\n",
      "Epoch 3/11\n",
      "9689/9689 [==============================] - 7s 743us/step - loss: 0.0894 - accuracy: 0.9757 - val_loss: 0.0901 - val_accuracy: 0.9762\n",
      "Epoch 4/11\n",
      "9689/9689 [==============================] - 7s 752us/step - loss: 0.0847 - accuracy: 0.9768 - val_loss: 0.0883 - val_accuracy: 0.9761\n",
      "Epoch 5/11\n",
      "9689/9689 [==============================] - 7s 746us/step - loss: 0.0806 - accuracy: 0.9780 - val_loss: 0.0858 - val_accuracy: 0.9767\n",
      "Epoch 6/11\n",
      "9689/9689 [==============================] - 7s 752us/step - loss: 0.0768 - accuracy: 0.9786 - val_loss: 0.0849 - val_accuracy: 0.9768\n",
      "Epoch 7/11\n",
      "9689/9689 [==============================] - 8s 781us/step - loss: 0.0734 - accuracy: 0.9797 - val_loss: 0.0895 - val_accuracy: 0.9766\n",
      "Epoch 8/11\n",
      "9689/9689 [==============================] - 9s 887us/step - loss: 0.0704 - accuracy: 0.9803 - val_loss: 0.0867 - val_accuracy: 0.9770\n",
      "Epoch 9/11\n",
      "9689/9689 [==============================] - 8s 820us/step - loss: 0.0674 - accuracy: 0.9812 - val_loss: 0.0879 - val_accuracy: 0.9776\n",
      "Epoch 10/11\n",
      "9689/9689 [==============================] - 8s 790us/step - loss: 0.0657 - accuracy: 0.9817 - val_loss: 0.0852 - val_accuracy: 0.9780\n",
      "Epoch 11/11\n",
      "9689/9689 [==============================] - 7s 753us/step - loss: 0.0630 - accuracy: 0.9822 - val_loss: 0.0889 - val_accuracy: 0.9777\n"
     ]
    }
   ],
   "source": [
    "loss = ann.fit(x_train, y_train, batch_size = 32, epochs = 11, validation_split = 0.3)"
   ]
  },
  {
   "cell_type": "code",
   "execution_count": 46,
   "id": "critical-agriculture",
   "metadata": {},
   "outputs": [
    {
     "data": {
      "image/png": "[encoded data removed]",
      "text/plain": [
       "<Figure size 432x288 with 1 Axes>"
      ]
     },
     "metadata": {
      "needs_background": "light"
     },
     "output_type": "display_data"
    }
   ],
   "source": [
    "plt.plot(loss.history['loss'])\n",
    "plt.plot(loss.history['val_loss'])\n",
    "plt.title('model loss')\n",
    "plt.ylabel('loss')\n",
    "plt.xlabel('epoch')\n",
    "plt.legend(['train', 'valid'], loc='upper left')\n",
    "plt.show()"
   ]
  },
  {
   "cell_type": "code",
   "execution_count": 47,
   "id": "canadian-homework",
   "metadata": {},
   "outputs": [],
   "source": [
    "y_pred = ann.predict(x_test)\n",
    "y_pred = np.round(y_pred)"
   ]
  },
  {
   "cell_type": "code",
   "execution_count": 48,
   "id": "analyzed-plasma",
   "metadata": {},
   "outputs": [
    {
     "name": "stdout",
     "output_type": "stream",
     "text": [
      "Accuracy Score: 97.75%\n",
      "Confusion Matrix: \n",
      " [[141887    582]\n",
      " [  2742   2424]]\n",
      "\n",
      "MCC_Score:0.6051957226985354\n",
      "\n",
      "f1_score: \n",
      " 0.5932452276064611\n",
      "\n",
      "recall_score: \n",
      " 0.4692218350754936\n",
      "\n",
      "Precision_Score:0.8063872255489022\n"
     ]
    }
   ],
   "source": [
    "print_classification_result(y_test, y_pred)"
   ]
  },
  {
   "cell_type": "code",
   "execution_count": 38,
   "id": "sound-lodge",
   "metadata": {},
   "outputs": [],
   "source": [
    "ann = tf.keras.models.Sequential()\n",
    "ann.add(tf.keras.layers.Dense(units = x_train.shape[1] + 1, activation = \"relu\"))\n",
    "ann.add(tf.keras.layers.Dense(units = (x_train.shape[1]/2) - 20, activation = \"relu\"))\n",
    "ann.add(tf.keras.layers.Dense(units = 1, activation = \"sigmoid\"))\n",
    "ann.compile(optimizer = 'adam', loss = 'binary_crossentropy', metrics = ['accuracy'])"
   ]
  },
  {
   "cell_type": "code",
   "execution_count": 39,
   "id": "wicked-laundry",
   "metadata": {},
   "outputs": [
    {
     "name": "stdout",
     "output_type": "stream",
     "text": [
      "Epoch 1/11\n",
      "9689/9689 [==============================] - 7s 761us/step - loss: 0.1066 - accuracy: 0.9719 - val_loss: 0.0958 - val_accuracy: 0.9735\n",
      "Epoch 2/11\n",
      "9689/9689 [==============================] - 7s 748us/step - loss: 0.0956 - accuracy: 0.9743 - val_loss: 0.0934 - val_accuracy: 0.9746\n",
      "Epoch 3/11\n",
      "9689/9689 [==============================] - 7s 747us/step - loss: 0.0891 - accuracy: 0.9758 - val_loss: 0.0891 - val_accuracy: 0.9756\n",
      "Epoch 4/11\n",
      "9689/9689 [==============================] - 7s 727us/step - loss: 0.0841 - accuracy: 0.9768 - val_loss: 0.0869 - val_accuracy: 0.9764\n",
      "Epoch 5/11\n",
      "9689/9689 [==============================] - 7s 754us/step - loss: 0.0802 - accuracy: 0.9779 - val_loss: 0.0883 - val_accuracy: 0.9765\n",
      "Epoch 6/11\n",
      "9689/9689 [==============================] - 7s 741us/step - loss: 0.0766 - accuracy: 0.9789 - val_loss: 0.0877 - val_accuracy: 0.9757\n",
      "Epoch 7/11\n",
      "9689/9689 [==============================] - 7s 736us/step - loss: 0.0733 - accuracy: 0.9796 - val_loss: 0.0846 - val_accuracy: 0.9772\n",
      "Epoch 8/11\n",
      "9689/9689 [==============================] - 7s 742us/step - loss: 0.0703 - accuracy: 0.9805 - val_loss: 0.0902 - val_accuracy: 0.9774\n",
      "Epoch 9/11\n",
      "9689/9689 [==============================] - 8s 838us/step - loss: 0.0678 - accuracy: 0.9811 - val_loss: 0.0883 - val_accuracy: 0.9772\n",
      "Epoch 10/11\n",
      "9689/9689 [==============================] - 7s 725us/step - loss: 0.0653 - accuracy: 0.9820 - val_loss: 0.0872 - val_accuracy: 0.9776\n",
      "Epoch 11/11\n",
      "9689/9689 [==============================] - 7s 731us/step - loss: 0.0631 - accuracy: 0.9826 - val_loss: 0.0923 - val_accuracy: 0.9775\n"
     ]
    }
   ],
   "source": [
    "loss = ann.fit(x_train, y_train, batch_size = 32, epochs = 11, validation_split = 0.3)"
   ]
  },
  {
   "cell_type": "code",
   "execution_count": 40,
   "id": "framed-louis",
   "metadata": {},
   "outputs": [
    {
     "data": {
      "image/png": "[encoded data removed]",
      "text/plain": [
       "<Figure size 432x288 with 1 Axes>"
      ]
     },
     "metadata": {
      "needs_background": "light"
     },
     "output_type": "display_data"
    }
   ],
   "source": [
    "plt.plot(loss.history['loss'])\n",
    "plt.plot(loss.history['val_loss'])\n",
    "plt.title('model loss')\n",
    "plt.ylabel('loss')\n",
    "plt.xlabel('epoch')\n",
    "plt.legend(['train', 'valid'], loc='upper left')\n",
    "plt.show()"
   ]
  },
  {
   "cell_type": "code",
   "execution_count": 41,
   "id": "female-official",
   "metadata": {},
   "outputs": [],
   "source": [
    "y_pred = ann.predict(x_test)\n",
    "y_pred = np.round(y_pred)"
   ]
  },
  {
   "cell_type": "code",
   "execution_count": 42,
   "id": "ancient-cleanup",
   "metadata": {},
   "outputs": [
    {
     "name": "stdout",
     "output_type": "stream",
     "text": [
      "Accuracy Score: 97.76%\n",
      "Confusion Matrix: \n",
      " [[141965    504]\n",
      " [  2805   2361]]\n",
      "\n",
      "MCC_Score:0.6040913857543572\n",
      "\n",
      "f1_score: \n",
      " 0.5879716100112066\n",
      "\n",
      "recall_score: \n",
      " 0.4570267131242741\n",
      "\n",
      "Precision_Score:0.8240837696335078\n"
     ]
    }
   ],
   "source": [
    "print_classification_result(y_test, y_pred)"
   ]
  },
  {
   "cell_type": "code",
   "execution_count": null,
   "id": "documentary-modern",
   "metadata": {},
   "outputs": [],
   "source": []
  }
 ],
 "metadata": {
  "kernelspec": {
   "display_name": "Python 3",
   "language": "python",
   "name": "python3"
  },
  "language_info": {
   "codemirror_mode": {
    "name": "ipython",
    "version": 3
   },
   "file_extension": ".py",
   "mimetype": "text/x-python",
   "name": "python",
   "nbconvert_exporter": "python",
   "pygments_lexer": "ipython3",
   "version": "3.8.8"
  }
 },
 "nbformat": 4,
 "nbformat_minor": 5
}
