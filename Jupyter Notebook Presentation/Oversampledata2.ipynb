{
 "cells": [
  {
   "cell_type": "code",
   "execution_count": 1,
   "id": "conservative-workstation",
   "metadata": {},
   "outputs": [],
   "source": [
    "import numpy as np\n",
    "import pandas as pd\n",
    "import seaborn as sb\n",
    "import matplotlib.pyplot as plt\n",
    "from sklearn.pipeline import Pipeline\n",
    "from sklearn.impute import SimpleImputer\n",
    "from sklearn.compose import ColumnTransformer\n",
    "from sklearn.preprocessing import OneHotEncoder\n",
    "from sklearn.preprocessing import LabelEncoder\n",
    "from sklearn.preprocessing import MinMaxScaler\n",
    "from sklearn.preprocessing import StandardScaler\n",
    "from imblearn.over_sampling import SMOTE\n",
    "import tensorflow as tf"
   ]
  },
  {
   "cell_type": "code",
   "execution_count": 2,
   "id": "martial-equality",
   "metadata": {},
   "outputs": [],
   "source": [
    "#Merge Transaction and Identity table\n",
    "train_id = pd.read_csv('creditcard_dataset2.csv/train_identity.csv')\n",
    "train_trans = pd.read_csv('creditcard_dataset2.csv/train_transaction.csv')\n",
    "train = train_trans.merge(train_id, how='left', on='TransactionID')"
   ]
  },
  {
   "cell_type": "code",
   "execution_count": 3,
   "id": "dietary-puzzle",
   "metadata": {},
   "outputs": [
    {
     "name": "stdout",
     "output_type": "stream",
     "text": [
      "(144233, 41)\n",
      "(590540, 394)\n"
     ]
    }
   ],
   "source": [
    "print(train_id.shape)\n",
    "print(train_trans.shape)"
   ]
  },
  {
   "cell_type": "code",
   "execution_count": 4,
   "id": "genuine-thomas",
   "metadata": {},
   "outputs": [
    {
     "name": "stdout",
     "output_type": "stream",
     "text": [
      "Non-Fraud weight: 0.9650099908558268\n",
      "Fraud weight: 0.03499000914417313\n"
     ]
    }
   ],
   "source": [
    "#Check for missing values\n",
    "weight_nf = train['isFraud'].value_counts()[0] / len(train)\n",
    "weight_f = train['isFraud'].value_counts()[1] / len(train)\n",
    "print(f\"Non-Fraud weight: {weight_nf}\")\n",
    "print(f\"Fraud weight: {weight_f}\")"
   ]
  },
  {
   "cell_type": "code",
   "execution_count": 5,
   "id": "increasing-yukon",
   "metadata": {},
   "outputs": [
    {
     "data": {
      "text/plain": [
       "TransactionID          0\n",
       "isFraud                0\n",
       "TransactionDT          0\n",
       "TransactionAmt         0\n",
       "ProductCD              0\n",
       "                   ...  \n",
       "id_36             449555\n",
       "id_37             449555\n",
       "id_38             449555\n",
       "DeviceType        449730\n",
       "DeviceInfo        471874\n",
       "Length: 434, dtype: int64"
      ]
     },
     "execution_count": 5,
     "metadata": {},
     "output_type": "execute_result"
    }
   ],
   "source": [
    "train.isnull().sum()"
   ]
  },
  {
   "cell_type": "code",
   "execution_count": 6,
   "id": "fatty-territory",
   "metadata": {},
   "outputs": [
    {
     "data": {
      "image/png": "[encoded data removed]",
      "text/plain": [
       "<Figure size 432x288 with 1 Axes>"
      ]
     },
     "metadata": {
      "needs_background": "light"
     },
     "output_type": "display_data"
    }
   ],
   "source": [
    "#Fraud Counts\n",
    "fraud_count = train[\"isFraud\"].value_counts()\n",
    "plt.figure()\n",
    "plt.title(\"Fraud Class Counts\")\n",
    "plt.bar(fraud_count.index,fraud_count.values,color='purple')\n",
    "plt.xticks([0,1], labels=[\"not fraud\",\"fraud\"])\n",
    "plt.show()"
   ]
  },
  {
   "cell_type": "code",
   "execution_count": 7,
   "id": "arctic-canvas",
   "metadata": {},
   "outputs": [],
   "source": [
    "del train_id\n",
    "del train_trans"
   ]
  },
  {
   "cell_type": "markdown",
   "id": "fourth-broad",
   "metadata": {},
   "source": [
    "## Preprocess Data"
   ]
  },
  {
   "cell_type": "code",
   "execution_count": 8,
   "id": "oriented-monitor",
   "metadata": {},
   "outputs": [
    {
     "name": "stdout",
     "output_type": "stream",
     "text": [
      "dist2 % NaN: 0.9362837403054831\n",
      "D6 % NaN: 0.8760676668811597\n",
      "D7 % NaN: 0.9340992989467267\n",
      "D8 % NaN: 0.8731229044603245\n",
      "D9 % NaN: 0.8731229044603245\n",
      "D12 % NaN: 0.8904104717715988\n",
      "D13 % NaN: 0.8950926270870728\n",
      "D14 % NaN: 0.8946946862193924\n",
      "V138 % NaN: 0.8612371727571375\n",
      "V139 % NaN: 0.8612371727571375\n",
      "V140 % NaN: 0.8612371727571375\n",
      "V141 % NaN: 0.8612371727571375\n",
      "V142 % NaN: 0.8612371727571375\n",
      "V143 % NaN: 0.8612270125647712\n",
      "V144 % NaN: 0.8612270125647712\n",
      "V145 % NaN: 0.8612270125647712\n",
      "V146 % NaN: 0.8612371727571375\n",
      "V147 % NaN: 0.8612371727571375\n",
      "V148 % NaN: 0.8612371727571375\n",
      "V149 % NaN: 0.8612371727571375\n",
      "V150 % NaN: 0.8612270125647712\n",
      "V151 % NaN: 0.8612270125647712\n",
      "V152 % NaN: 0.8612270125647712\n",
      "V153 % NaN: 0.8612371727571375\n",
      "V154 % NaN: 0.8612371727571375\n",
      "V155 % NaN: 0.8612371727571375\n",
      "V156 % NaN: 0.8612371727571375\n",
      "V157 % NaN: 0.8612371727571375\n",
      "V158 % NaN: 0.8612371727571375\n",
      "V159 % NaN: 0.8612270125647712\n",
      "V160 % NaN: 0.8612270125647712\n",
      "V161 % NaN: 0.8612371727571375\n",
      "V162 % NaN: 0.8612371727571375\n",
      "V163 % NaN: 0.8612371727571375\n",
      "V164 % NaN: 0.8612270125647712\n",
      "V165 % NaN: 0.8612270125647712\n",
      "V166 % NaN: 0.8612270125647712\n",
      "V322 % NaN: 0.8605496664070174\n",
      "V323 % NaN: 0.8605496664070174\n",
      "V324 % NaN: 0.8605496664070174\n",
      "V325 % NaN: 0.8605496664070174\n",
      "V326 % NaN: 0.8605496664070174\n",
      "V327 % NaN: 0.8605496664070174\n",
      "V328 % NaN: 0.8605496664070174\n",
      "V329 % NaN: 0.8605496664070174\n",
      "V330 % NaN: 0.8605496664070174\n",
      "V331 % NaN: 0.8605496664070174\n",
      "V332 % NaN: 0.8605496664070174\n",
      "V333 % NaN: 0.8605496664070174\n",
      "V334 % NaN: 0.8605496664070174\n",
      "V335 % NaN: 0.8605496664070174\n",
      "V336 % NaN: 0.8605496664070174\n",
      "V337 % NaN: 0.8605496664070174\n",
      "V338 % NaN: 0.8605496664070174\n",
      "V339 % NaN: 0.8605496664070174\n",
      "id_03 % NaN: 0.8876892335828225\n",
      "id_04 % NaN: 0.8876892335828225\n",
      "id_07 % NaN: 0.9912707013919464\n",
      "id_08 % NaN: 0.9912707013919464\n",
      "id_09 % NaN: 0.8731229044603245\n",
      "id_10 % NaN: 0.8731229044603245\n",
      "id_14 % NaN: 0.8644562603718631\n",
      "id_18 % NaN: 0.9236072069631185\n",
      "id_21 % NaN: 0.9912639279303688\n",
      "id_22 % NaN: 0.9912469942764249\n",
      "id_23 % NaN: 0.9912469942764249\n",
      "id_24 % NaN: 0.9919615944728554\n",
      "id_25 % NaN: 0.9913096487960172\n",
      "id_26 % NaN: 0.9912571544687913\n",
      "id_27 % NaN: 0.9912469942764249\n",
      "id_30 % NaN: 0.868654113184543\n",
      "id_32 % NaN: 0.8686185525112609\n",
      "id_33 % NaN: 0.8758949436109323\n",
      "id_34 % NaN: 0.8682477054898906\n"
     ]
    }
   ],
   "source": [
    "#Remove high missing value columns\n",
    "columnsToDelete = []\n",
    "for col in train.columns:\n",
    "    if(train[col].isnull().sum()/len(train[col]) >= 0.8):\n",
    "        print(col, \"% NaN:\", train[col].isnull().sum()/len(train[col]))\n",
    "        columnsToDelete.append(col)"
   ]
  },
  {
   "cell_type": "code",
   "execution_count": 9,
   "id": "continued-system",
   "metadata": {},
   "outputs": [],
   "source": [
    "train = train.drop(columns=columnsToDelete)"
   ]
  },
  {
   "cell_type": "code",
   "execution_count": 10,
   "id": "confidential-therapy",
   "metadata": {},
   "outputs": [],
   "source": [
    "v_columns = []\n",
    "for col in ['V'+str(x) for x in range(1,340)]:\n",
    "    if col in train.columns:\n",
    "        v_columns.append(col)"
   ]
  },
  {
   "cell_type": "code",
   "execution_count": 11,
   "id": "faced-airport",
   "metadata": {},
   "outputs": [
    {
     "name": "stdout",
     "output_type": "stream",
     "text": [
      "24\n",
      "12\n",
      "30\n"
     ]
    }
   ],
   "source": [
    "cat_label_features = [\"card1\",\"card2\",\"card3\",\"card5\", \"addr1\", \"addr2\", \"id_13\",\"id_17\",\"id_19\",\"id_20\",\"id_31\",\"DeviceInfo\"]\n",
    "num_features = []\n",
    "cat_onehot_features = [\"ProductCD\",\"card4\",\"card6\", \"M1\",\"M2\",\"M3\",\"M4\",\"M5\",\"M6\",\"M7\",\"M8\",\"M9\",\"id_12\",\"id_15\",\n",
    "                      \"id_16\",\"id_28\",\"id_29\",\"id_35\",\"id_36\",\"id_37\",\"id_38\",\"DeviceType\",\"P_emaildomain\",\n",
    "                       \"R_emaildomain\"]\n",
    "for col in train.columns:\n",
    "    if col not in cat_label_features and col not in v_columns and col not in cat_onehot_features:\n",
    "        num_features.append(col)\n",
    "num_features.remove('isFraud')\n",
    "num_features.remove('TransactionID')\n",
    "\n",
    "print(len(cat_onehot_features))\n",
    "print(len(cat_label_features))\n",
    "print(len(num_features))"
   ]
  },
  {
   "cell_type": "code",
   "execution_count": 12,
   "id": "structural-twins",
   "metadata": {},
   "outputs": [],
   "source": [
    "emails = {'gmail': 'google', 'att.net': 'att', 'twc.com': 'spectrum', 'scranton.edu': 'other', 'optonline.net': 'other',\n",
    "          'hotmail.co.uk': 'microsoft', 'comcast.net': 'other', 'yahoo.com.mx': 'yahoo', 'yahoo.fr': 'yahoo',\n",
    "          'yahoo.es': 'yahoo', 'charter.net': 'spectrum', 'live.com': 'microsoft', 'aim.com': 'aol', 'hotmail.de': 'microsoft',\n",
    "          'centurylink.net': 'centurylink', 'gmail.com': 'google', 'me.com': 'apple', 'earthlink.net': 'other', \n",
    "          'gmx.de': 'other', 'web.de': 'other', 'cfl.rr.com': 'other', 'hotmail.com': 'microsoft', 'protonmail.com': 'other',\n",
    "          'hotmail.fr': 'microsoft', 'windstream.net': 'other', 'outlook.es': 'microsoft', 'yahoo.co.jp': 'yahoo',\n",
    "          'yahoo.de': 'yahoo', 'servicios-ta.com': 'other', 'netzero.net': 'other', 'suddenlink.net': 'other',\n",
    "          'roadrunner.com': 'other', 'sc.rr.com': 'other', 'live.fr': 'microsoft', 'verizon.net': 'yahoo',\n",
    "          'msn.com': 'microsoft', 'q.com': 'centurylink', 'prodigy.net.mx': 'att', 'frontier.com': 'yahoo',\n",
    "          'anonymous.com': 'other', 'rocketmail.com': 'yahoo', 'sbcglobal.net': 'att', 'frontiernet.net': 'yahoo',\n",
    "          'ymail.com': 'yahoo', 'outlook.com': 'microsoft', 'mail.com': 'other', 'bellsouth.net': 'other',\n",
    "          'embarqmail.com': 'centurylink', 'cableone.net': 'other', 'hotmail.es': 'microsoft', 'mac.com': 'apple',\n",
    "          'yahoo.co.uk': 'yahoo', 'netzero.com': 'other', 'yahoo.com': 'yahoo', 'live.com.mx': 'microsoft', 'ptd.net': 'other',\n",
    "          'cox.net': 'other', 'aol.com': 'aol', 'juno.com': 'other', 'icloud.com': 'apple'}\n",
    "\n",
    "for c in ['P_emaildomain', 'R_emaildomain']:\n",
    "    train[c] = train[c].map(emails)"
   ]
  },
  {
   "cell_type": "code",
   "execution_count": 13,
   "id": "married-extent",
   "metadata": {},
   "outputs": [],
   "source": [
    "train[\"new_browser\"] = np.zeros(train.shape[0])\n",
    "\n",
    "def setBinaryBrowser(df):\n",
    "    df.loc[df[\"id_31\"]==\"samsung browser 7.0\",'new_browser']=1\n",
    "    df.loc[df[\"id_31\"]==\"opera 53.0\",'new_browser']=1\n",
    "    df.loc[df[\"id_31\"]==\"mobile safari 10.0\",'new_browser']=1\n",
    "    df.loc[df[\"id_31\"]==\"google search application 49.0\",'new_browser']=1\n",
    "    df.loc[df[\"id_31\"]==\"firefox 60.0\",'new_browser']=1\n",
    "    df.loc[df[\"id_31\"]==\"edge 17.0\",'new_browser']=1\n",
    "    df.loc[df[\"id_31\"]==\"chrome 69.0\",'new_browser']=1\n",
    "    df.loc[df[\"id_31\"]==\"chrome 67.0 for android\",'new_browser']=1\n",
    "    df.loc[df[\"id_31\"]==\"chrome 63.0 for android\",'new_browser']=1\n",
    "    df.loc[df[\"id_31\"]==\"chrome 63.0 for ios\",'new_browser']=1\n",
    "    df.loc[df[\"id_31\"]==\"chrome 64.0\",'new_browser']=1\n",
    "    df.loc[df[\"id_31\"]==\"chrome 64.0 for android\",'new_browser']=1\n",
    "    df.loc[df[\"id_31\"]==\"chrome 64.0 for ios\",'new_browser']=1\n",
    "    df.loc[df[\"id_31\"]==\"chrome 65.0\",'new_browser']=1\n",
    "    df.loc[df[\"id_31\"]==\"chrome 65.0 for android\",'new_browser']=1\n",
    "    df.loc[df[\"id_31\"]==\"chrome 65.0 for ios\",'new_browser']=1\n",
    "    df.loc[df[\"id_31\"]==\"chrome 66.0\",'new_browser']=1\n",
    "    df.loc[df[\"id_31\"]==\"chrome 66.0 for android\",'new_browser']=1\n",
    "    df.loc[df[\"id_31\"]==\"chrome 66.0 for ios\",'new_browser']=1\n",
    "    return df\n",
    "\n",
    "train = setBinaryBrowser(train)\n",
    "cat_label_features.remove('id_31')\n",
    "cat_onehot_features.append('new_browser')\n",
    "train = train.drop(columns='id_31')"
   ]
  },
  {
   "cell_type": "code",
   "execution_count": 14,
   "id": "civil-deadline",
   "metadata": {},
   "outputs": [],
   "source": [
    "def transform_hour(df, col='TransactionDT'):\n",
    "    hours = df[col] / (3600)        \n",
    "    hours = np.floor(hours) % 24\n",
    "    return hours\n",
    "\n",
    "train['hours'] = transform_hour(train)\n",
    "num_features.remove('TransactionDT')\n",
    "cat_onehot_features.append('hours')"
   ]
  },
  {
   "cell_type": "code",
   "execution_count": 15,
   "id": "public-withdrawal",
   "metadata": {},
   "outputs": [],
   "source": [
    "num_transformer = Pipeline(\n",
    "    steps = [\n",
    "        ('imputer', SimpleImputer(strategy='median')),\n",
    "        ('scaler', StandardScaler())  \n",
    "    ]\n",
    ")\n",
    "\n",
    "v_transformer = Pipeline(\n",
    "    steps = [\n",
    "        ('imputer', SimpleImputer(strategy='median')),\n",
    "        ('scaler', StandardScaler())\n",
    "    ]\n",
    ")\n",
    "\n",
    "cat_transformer = Pipeline(\n",
    "    steps = [\n",
    "        ('imputer', SimpleImputer(strategy='most_frequent')),\n",
    "        ('onehot', OneHotEncoder())\n",
    "    ]\n",
    ")\n",
    "\n",
    "preprocessor_c = ColumnTransformer(\n",
    "    transformers = [\n",
    "        ('cat', cat_transformer, cat_onehot_features)\n",
    "    ]\n",
    ")\n",
    "\n",
    "preprocessor_v = ColumnTransformer(\n",
    "    transformers = [\n",
    "        ('v', v_transformer, v_columns)\n",
    "    ]\n",
    ")\n",
    "\n",
    "preprocessor_num = ColumnTransformer(\n",
    "    transformers = [\n",
    "        ('num', num_transformer, num_features)\n",
    "    ]\n",
    ")"
   ]
  },
  {
   "cell_type": "code",
   "execution_count": 16,
   "id": "chief-drawing",
   "metadata": {},
   "outputs": [],
   "source": [
    "for col in cat_label_features:\n",
    "    train[col] = train[col].fillna(train[col].mode()[0])\n",
    "\n",
    "le = LabelEncoder()\n",
    "train[cat_label_features] = train[[\"card1\",\"card2\",\"card3\",\"card5\", \"addr1\", \"addr2\",\n",
    "                                   \"id_13\",\"id_17\",\"id_19\",\"id_20\",\"DeviceInfo\"]].apply(le.fit_transform)"
   ]
  },
  {
   "cell_type": "code",
   "execution_count": 17,
   "id": "hollow-siemens",
   "metadata": {},
   "outputs": [],
   "source": [
    "from sklearn.model_selection import train_test_split\n",
    "y = train.isFraud.values\n",
    "x_train, x_test, y_train, y_test = train_test_split(train, y, test_size = 0.25, random_state = 5)"
   ]
  },
  {
   "cell_type": "code",
   "execution_count": 18,
   "id": "local-eating",
   "metadata": {},
   "outputs": [
    {
     "name": "stdout",
     "output_type": "stream",
     "text": [
      "(442905, 11)\n"
     ]
    }
   ],
   "source": [
    "x_train_cat_label = x_train[cat_label_features]\n",
    "x_test_cat_label = x_test[cat_label_features]\n",
    "mms = MinMaxScaler()\n",
    "x_train_cat_label = mms.fit_transform(x_train_cat_label)\n",
    "x_test_cat_label = mms.transform(x_test_cat_label)\n",
    "print(x_train_cat_label.shape)"
   ]
  },
  {
   "cell_type": "code",
   "execution_count": 19,
   "id": "operating-response",
   "metadata": {},
   "outputs": [],
   "source": [
    "preprocessor_c.fit(x_train[cat_onehot_features])\n",
    "x_train_cat_onehot = preprocessor_c.transform(x_train[cat_onehot_features])\n",
    "x_test_cat_onehot = preprocessor_c.transform(x_test[cat_onehot_features])"
   ]
  },
  {
   "cell_type": "code",
   "execution_count": 20,
   "id": "demographic-mining",
   "metadata": {},
   "outputs": [
    {
     "name": "stdout",
     "output_type": "stream",
     "text": [
      "(442905, 97)\n"
     ]
    }
   ],
   "source": [
    "x_train_cat_onehot = x_train_cat_onehot.toarray()\n",
    "x_test_cat_onehot = x_test_cat_onehot.toarray()\n",
    "print(x_train_cat_onehot.shape)"
   ]
  },
  {
   "cell_type": "code",
   "execution_count": 21,
   "id": "small-billy",
   "metadata": {},
   "outputs": [
    {
     "name": "stdout",
     "output_type": "stream",
     "text": [
      "(442905, 292)\n"
     ]
    }
   ],
   "source": [
    "preprocessor_v.fit(x_train[v_columns])\n",
    "x_train_v = preprocessor_v.transform(x_train[v_columns])\n",
    "x_test_v = preprocessor_v.transform(x_test[v_columns])\n",
    "print(x_train_v.shape)"
   ]
  },
  {
   "cell_type": "code",
   "execution_count": 22,
   "id": "liberal-biography",
   "metadata": {},
   "outputs": [
    {
     "name": "stdout",
     "output_type": "stream",
     "text": [
      "(442905, 85)\n"
     ]
    }
   ],
   "source": [
    "#Dimension reduction\n",
    "from sklearn.decomposition import PCA\n",
    "pca = PCA(n_components = 0.95)\n",
    "x_train_v = pca.fit_transform(x_train_v)\n",
    "x_test_v = pca.transform(x_test_v)\n",
    "var_explained = pca.explained_variance_ratio_.sum()\n",
    "print(x_train_v.shape)"
   ]
  },
  {
   "cell_type": "code",
   "execution_count": 23,
   "id": "massive-singles",
   "metadata": {},
   "outputs": [
    {
     "name": "stdout",
     "output_type": "stream",
     "text": [
      "(442905, 29)\n",
      "(147635, 29)\n"
     ]
    }
   ],
   "source": [
    "preprocessor_num.fit(x_train[num_features])\n",
    "x_train_num = preprocessor_num.transform(x_train[num_features])\n",
    "x_test_num = preprocessor_num.transform(x_test[num_features])\n",
    "print(x_train_num.shape)\n",
    "print(x_test_num.shape)"
   ]
  },
  {
   "cell_type": "code",
   "execution_count": 24,
   "id": "generic-flooring",
   "metadata": {},
   "outputs": [
    {
     "name": "stdout",
     "output_type": "stream",
     "text": [
      "(442905, 222)\n",
      "(147635, 222)\n"
     ]
    }
   ],
   "source": [
    "x_train_num = x_train_num.astype('float32')\n",
    "x_test_num = x_test_num.astype('float32')\n",
    "x_train = np.concatenate((x_train_num, x_train_cat_label, x_train_v, x_train_cat_onehot), axis = 1)\n",
    "x_test = np.concatenate((x_test_num, x_test_cat_label, x_test_v, x_test_cat_onehot), axis = 1)\n",
    "print(x_train.shape)\n",
    "print(x_test.shape)"
   ]
  },
  {
   "cell_type": "code",
   "execution_count": 25,
   "id": "cognitive-modern",
   "metadata": {},
   "outputs": [
    {
     "name": "stdout",
     "output_type": "stream",
     "text": [
      "(854800, 222)\n"
     ]
    }
   ],
   "source": [
    "smote = SMOTE(sampling_strategy='minority')\n",
    "x_train, y_train = smote.fit_resample(x_train, y_train)\n",
    "print(x_train.shape)"
   ]
  },
  {
   "cell_type": "code",
   "execution_count": 26,
   "id": "attached-delta",
   "metadata": {},
   "outputs": [],
   "source": [
    "from sklearn.metrics import accuracy_score, confusion_matrix, recall_score, f1_score, precision_score, matthews_corrcoef\n",
    "\n",
    "\n",
    "def print_classification_result(true, predict):\n",
    "    print(f\"Accuracy Score\\n: {accuracy_score(true, predict) * 100:.2f}%\")\n",
    "    print(f\"Confusion Matrix: \\n {confusion_matrix(true, predict)}\\n\")\n",
    "    print(f\"MCC_Score\\n:{matthews_corrcoef(true, predict)}\\n\")\n",
    "    print(f\"f1_score: \\n {f1_score(true, predict)}\\n\")\n",
    "    print(f\"recall_score: \\n {recall_score(true, predict)}\\n\")\n",
    "    print(f\"Precision_Score\\n:{precision_score(true, predict)}\")"
   ]
  },
  {
   "cell_type": "markdown",
   "id": "victorian-injection",
   "metadata": {},
   "source": [
    "## Random Forest Classifier"
   ]
  },
  {
   "cell_type": "code",
   "execution_count": 27,
   "id": "certified-athletics",
   "metadata": {},
   "outputs": [
    {
     "name": "stdout",
     "output_type": "stream",
     "text": [
      "Accuracy Score\n",
      ": 98.25%\n",
      "Confusion Matrix: \n",
      " [[142237    240]\n",
      " [  2343   2815]]\n",
      "\n",
      "MCC_Score\n",
      ":0.701791108078559\n",
      "\n",
      "f1_score: \n",
      " 0.6854985997808353\n",
      "\n",
      "recall_score: \n",
      " 0.54575416828228\n",
      "\n",
      "Precision_Score\n",
      ":0.9214402618657938\n"
     ]
    }
   ],
   "source": [
    "from sklearn.ensemble import RandomForestClassifier\n",
    "randfclassifier = RandomForestClassifier(n_estimators = 300, criterion = \"gini\", bootstrap = False)\n",
    "randfclassifier.fit(x_train, y_train)\n",
    "y_test_pred_randf = randfclassifier.predict(x_test)\n",
    "print_classification_result(y_test, y_test_pred_randf)"
   ]
  },
  {
   "cell_type": "code",
   "execution_count": 28,
   "id": "incorrect-intention",
   "metadata": {},
   "outputs": [
    {
     "data": {
      "image/png": "[encoded data removed]",
      "text/plain": [
       "<Figure size 504x360 with 2 Axes>"
      ]
     },
     "metadata": {
      "needs_background": "light"
     },
     "output_type": "display_data"
    }
   ],
   "source": [
    "plt.figure(figsize = (7,5))\n",
    "cm = sb.heatmap(confusion_matrix(y_test, y_test_pred_randf), annot=True, cmap='Blues', fmt='d')\n",
    "cm.set_title('Random Forest')\n",
    "plt.show()"
   ]
  },
  {
   "cell_type": "markdown",
   "id": "critical-smoke",
   "metadata": {},
   "source": [
    "## K Nearest Neighbor Classifier"
   ]
  },
  {
   "cell_type": "code",
   "execution_count": 29,
   "id": "dress-interpretation",
   "metadata": {},
   "outputs": [
    {
     "name": "stdout",
     "output_type": "stream",
     "text": [
      "Accuracy Score\n",
      ": 90.40%\n",
      "Confusion Matrix: \n",
      " [[129636  12841]\n",
      " [  1328   3830]]\n",
      "\n",
      "MCC_Score\n",
      ":0.3785090154706259\n",
      "\n",
      "f1_score: \n",
      " 0.350909340785194\n",
      "\n",
      "recall_score: \n",
      " 0.7425358666149671\n",
      "\n",
      "Precision_Score\n",
      ":0.22974026753044208\n"
     ]
    }
   ],
   "source": [
    "from sklearn.neighbors import KNeighborsClassifier\n",
    "\n",
    "knn = KNeighborsClassifier(n_neighbors = 5, p = 2, metric = \"minkowski\")\n",
    "knn.fit(x_train, y_train)\n",
    "y_test_pred_KNN = knn.predict(x_test)\n",
    "print_classification_result(y_test, y_test_pred_KNN)"
   ]
  },
  {
   "cell_type": "code",
   "execution_count": 30,
   "id": "raising-median",
   "metadata": {},
   "outputs": [
    {
     "data": {
      "image/png": "[encoded data removed]",
      "text/plain": [
       "<Figure size 504x360 with 2 Axes>"
      ]
     },
     "metadata": {
      "needs_background": "light"
     },
     "output_type": "display_data"
    }
   ],
   "source": [
    "plt.figure(figsize = (7,5))\n",
    "cm = sb.heatmap(confusion_matrix(y_test, y_test_pred_KNN), annot=True, cmap='Blues', fmt='d')\n",
    "cm.set_title('K Nearest Neighbors')\n",
    "plt.show()"
   ]
  },
  {
   "cell_type": "markdown",
   "id": "studied-hanging",
   "metadata": {},
   "source": [
    "## Naive Bayes Classifier"
   ]
  },
  {
   "cell_type": "code",
   "execution_count": 31,
   "id": "bottom-recommendation",
   "metadata": {},
   "outputs": [
    {
     "name": "stdout",
     "output_type": "stream",
     "text": [
      "Accuracy Score\n",
      ": 81.42%\n",
      "Confusion Matrix: \n",
      " [[117142  25335]\n",
      " [  2094   3064]]\n",
      "\n",
      "MCC_Score\n",
      ":0.19389690597394196\n",
      "\n",
      "f1_score: \n",
      " 0.1826146556605179\n",
      "\n",
      "recall_score: \n",
      " 0.5940286932919736\n",
      "\n",
      "Precision_Score\n",
      ":0.10789112292686362\n"
     ]
    }
   ],
   "source": [
    "from sklearn.naive_bayes import GaussianNB\n",
    "nb = GaussianNB()\n",
    "nb.fit(x_train, y_train)\n",
    "y_test_pred_NB = nb.predict(x_test)\n",
    "print_classification_result(y_test, y_test_pred_NB)"
   ]
  },
  {
   "cell_type": "code",
   "execution_count": 32,
   "id": "korean-bibliography",
   "metadata": {},
   "outputs": [
    {
     "data": {
      "image/png": "[encoded data removed]",
      "text/plain": [
       "<Figure size 504x360 with 2 Axes>"
      ]
     },
     "metadata": {
      "needs_background": "light"
     },
     "output_type": "display_data"
    }
   ],
   "source": [
    "plt.figure(figsize = (7,5))\n",
    "cm = sb.heatmap(confusion_matrix(y_test, y_test_pred_NB), annot=True, cmap='Blues', fmt='d')\n",
    "cm.set_title('Naive Bayes')\n",
    "plt.show()"
   ]
  },
  {
   "cell_type": "markdown",
   "id": "present-orientation",
   "metadata": {},
   "source": [
    "## Decision Tree Classifier"
   ]
  },
  {
   "cell_type": "code",
   "execution_count": 42,
   "id": "former-surgery",
   "metadata": {},
   "outputs": [
    {
     "name": "stdout",
     "output_type": "stream",
     "text": [
      "Accuracy Score\n",
      ": 95.50%\n",
      "Confusion Matrix: \n",
      " [[138201   4276]\n",
      " [  2373   2785]]\n",
      "\n",
      "MCC_Score\n",
      ":0.4387677342326391\n",
      "\n",
      "f1_score: \n",
      " 0.4558474506915459\n",
      "\n",
      "recall_score: \n",
      " 0.5399379604497867\n",
      "\n",
      "Precision_Score\n",
      ":0.39442005381673984\n"
     ]
    }
   ],
   "source": [
    "from sklearn.tree import DecisionTreeClassifier\n",
    "tree = DecisionTreeClassifier(criterion = \"gini\", min_samples_leaf = 10)\n",
    "tree.fit(x_train, y_train)\n",
    "y_test_pred_tree = tree.predict(x_test)\n",
    "print_classification_result(y_test, y_test_pred_tree)"
   ]
  },
  {
   "cell_type": "code",
   "execution_count": 43,
   "id": "incoming-writer",
   "metadata": {},
   "outputs": [
    {
     "data": {
      "image/png": "[encoded data removed]",
      "text/plain": [
       "<Figure size 504x360 with 2 Axes>"
      ]
     },
     "metadata": {
      "needs_background": "light"
     },
     "output_type": "display_data"
    }
   ],
   "source": [
    "plt.figure(figsize = (7,5))\n",
    "cm = sb.heatmap(confusion_matrix(y_test, y_test_pred_tree), annot=True, cmap='Blues', fmt='d')\n",
    "cm.set_title('Decision Tree')\n",
    "plt.show()"
   ]
  },
  {
   "cell_type": "markdown",
   "id": "partial-memorabilia",
   "metadata": {},
   "source": [
    "## Logistics Regression"
   ]
  },
  {
   "cell_type": "code",
   "execution_count": 29,
   "id": "motivated-approval",
   "metadata": {},
   "outputs": [
    {
     "name": "stderr",
     "output_type": "stream",
     "text": [
      "C:\\Users\\Wilson\\Anaconda3\\envs\\Tensorflow\\lib\\site-packages\\sklearn\\linear_model\\_logistic.py:763: ConvergenceWarning: lbfgs failed to converge (status=1):\n",
      "STOP: TOTAL NO. of ITERATIONS REACHED LIMIT.\n",
      "\n",
      "Increase the number of iterations (max_iter) or scale the data as shown in:\n",
      "    https://scikit-learn.org/stable/modules/preprocessing.html\n",
      "Please also refer to the documentation for alternative solver options:\n",
      "    https://scikit-learn.org/stable/modules/linear_model.html#logistic-regression\n",
      "  n_iter_i = _check_optimize_result(\n"
     ]
    },
    {
     "name": "stdout",
     "output_type": "stream",
     "text": [
      "Accuracy Score\n",
      ": 81.42%\n",
      "Confusion Matrix: \n",
      " [[116410  26067]\n",
      " [  1361   3797]]\n",
      "\n",
      "MCC_Score\n",
      ":0.25286462167338886\n",
      "\n",
      "f1_score: \n",
      " 0.2168351322026155\n",
      "\n",
      "recall_score: \n",
      " 0.7361380379992245\n",
      "\n",
      "Precision_Score\n",
      ":0.127143048486472\n"
     ]
    }
   ],
   "source": [
    "from sklearn.linear_model import LogisticRegression\n",
    "log = LogisticRegression(C=1, class_weight= None)\n",
    "log.fit(x_train, y_train)\n",
    "y_test_pred_log = log.predict(x_test)\n",
    "print_classification_result(y_test, y_test_pred_log)"
   ]
  },
  {
   "cell_type": "code",
   "execution_count": 30,
   "id": "prescribed-conjunction",
   "metadata": {},
   "outputs": [
    {
     "data": {
      "image/png": "[encoded data removed]",
      "text/plain": [
       "<Figure size 504x360 with 2 Axes>"
      ]
     },
     "metadata": {
      "needs_background": "light"
     },
     "output_type": "display_data"
    }
   ],
   "source": [
    "plt.figure(figsize = (7,5))\n",
    "cm = sb.heatmap(confusion_matrix(y_test, y_test_pred_log), annot=True, cmap='Blues', fmt='d')\n",
    "cm.set_title('Logistic Regression')\n",
    "plt.show()"
   ]
  },
  {
   "cell_type": "markdown",
   "id": "assigned-agency",
   "metadata": {},
   "source": [
    "## Artifical Neural Network"
   ]
  },
  {
   "cell_type": "code",
   "execution_count": 33,
   "id": "egyptian-heritage",
   "metadata": {},
   "outputs": [],
   "source": [
    "ann = tf.keras.models.Sequential()\n",
    "ann.add(tf.keras.layers.Dense(units = x_train.shape[1] + 1, activation = \"relu\"))\n",
    "ann.add(tf.keras.layers.Dense(units = x_train.shape[1]/2, activation = \"relu\"))\n",
    "ann.add(tf.keras.layers.Dense(units = 1, activation = \"sigmoid\"))\n",
    "ann.compile(optimizer = 'adam', loss = 'binary_crossentropy', metrics = ['accuracy'])"
   ]
  },
  {
   "cell_type": "code",
   "execution_count": 34,
   "id": "cleared-intention",
   "metadata": {},
   "outputs": [
    {
     "name": "stdout",
     "output_type": "stream",
     "text": [
      "Epoch 1/20\n",
      "18699/18699 [==============================] - 17s 894us/step - loss: 0.2693 - accuracy: 0.8877 - val_loss: 0.3678 - val_accuracy: 0.8342\n",
      "Epoch 2/20\n",
      "18699/18699 [==============================] - 15s 827us/step - loss: 0.1642 - accuracy: 0.9340 - val_loss: 0.2704 - val_accuracy: 0.8854\n",
      "Epoch 3/20\n",
      "18699/18699 [==============================] - 15s 794us/step - loss: 0.1254 - accuracy: 0.9508 - val_loss: 0.1841 - val_accuracy: 0.9246\n",
      "Epoch 4/20\n",
      "18699/18699 [==============================] - 14s 746us/step - loss: 0.1022 - accuracy: 0.9600 - val_loss: 0.1717 - val_accuracy: 0.9340\n",
      "Epoch 5/20\n",
      "18699/18699 [==============================] - 15s 784us/step - loss: 0.0881 - accuracy: 0.9663 - val_loss: 0.0922 - val_accuracy: 0.9653\n",
      "Epoch 6/20\n",
      "18699/18699 [==============================] - 15s 792us/step - loss: 0.0778 - accuracy: 0.9704 - val_loss: 0.0975 - val_accuracy: 0.9612\n",
      "Epoch 7/20\n",
      "18699/18699 [==============================] - 17s 932us/step - loss: 0.0697 - accuracy: 0.9735 - val_loss: 0.1265 - val_accuracy: 0.9527\n",
      "Epoch 8/20\n",
      "18699/18699 [==============================] - 15s 825us/step - loss: 0.0633 - accuracy: 0.9761 - val_loss: 0.1046 - val_accuracy: 0.9617\n",
      "Epoch 9/20\n",
      "18699/18699 [==============================] - 14s 766us/step - loss: 0.0578 - accuracy: 0.9785 - val_loss: 0.0961 - val_accuracy: 0.9647\n",
      "Epoch 10/20\n",
      "18699/18699 [==============================] - 16s 866us/step - loss: 0.0546 - accuracy: 0.9799 - val_loss: 0.0766 - val_accuracy: 0.9701\n",
      "Epoch 11/20\n",
      "18699/18699 [==============================] - 15s 809us/step - loss: 0.0502 - accuracy: 0.9815 - val_loss: 0.0789 - val_accuracy: 0.9697\n",
      "Epoch 12/20\n",
      "18699/18699 [==============================] - 14s 741us/step - loss: 0.0474 - accuracy: 0.9824 - val_loss: 0.0767 - val_accuracy: 0.9708\n",
      "Epoch 13/20\n",
      "18699/18699 [==============================] - 14s 731us/step - loss: 0.0448 - accuracy: 0.9834 - val_loss: 0.0559 - val_accuracy: 0.9780\n",
      "Epoch 14/20\n",
      "18699/18699 [==============================] - 14s 730us/step - loss: 0.0421 - accuracy: 0.9847 - val_loss: 0.0399 - val_accuracy: 0.9862\n",
      "Epoch 15/20\n",
      "18699/18699 [==============================] - 22s 1ms/step - loss: 0.0400 - accuracy: 0.9854 - val_loss: 0.0541 - val_accuracy: 0.9801\n",
      "Epoch 16/20\n",
      "18699/18699 [==============================] - 31s 2ms/step - loss: 0.0381 - accuracy: 0.9864 - val_loss: 0.0381 - val_accuracy: 0.9876\n",
      "Epoch 17/20\n",
      "18699/18699 [==============================] - 31s 2ms/step - loss: 0.0362 - accuracy: 0.9867 - val_loss: 0.0500 - val_accuracy: 0.9813\n",
      "Epoch 18/20\n",
      "18699/18699 [==============================] - 31s 2ms/step - loss: 0.0350 - accuracy: 0.9874 - val_loss: 0.0582 - val_accuracy: 0.9813\n",
      "Epoch 19/20\n",
      "18699/18699 [==============================] - 31s 2ms/step - loss: 0.0337 - accuracy: 0.9879 - val_loss: 0.0479 - val_accuracy: 0.9828\n",
      "Epoch 20/20\n",
      "18699/18699 [==============================] - 21s 1ms/step - loss: 0.0327 - accuracy: 0.9884 - val_loss: 0.0390 - val_accuracy: 0.9861\n"
     ]
    }
   ],
   "source": [
    "loss = ann.fit(x_train, y_train, batch_size = 32, epochs = 20, validation_split = 0.3)"
   ]
  },
  {
   "cell_type": "code",
   "execution_count": 35,
   "id": "closed-industry",
   "metadata": {},
   "outputs": [
    {
     "data": {
      "image/png": "[encoded data removed]",
      "text/plain": [
       "<Figure size 432x288 with 1 Axes>"
      ]
     },
     "metadata": {
      "needs_background": "light"
     },
     "output_type": "display_data"
    }
   ],
   "source": [
    "plt.plot(loss.history['loss'])\n",
    "plt.plot(loss.history['val_loss'])\n",
    "plt.title('model loss')\n",
    "plt.ylabel('loss')\n",
    "plt.xlabel('epoch')\n",
    "plt.legend(['train', 'test'], loc='upper left')\n",
    "plt.show()"
   ]
  },
  {
   "cell_type": "code",
   "execution_count": 36,
   "id": "national-promotion",
   "metadata": {},
   "outputs": [
    {
     "name": "stdout",
     "output_type": "stream",
     "text": [
      "Accuracy Score\n",
      ": 96.92%\n",
      "Confusion Matrix: \n",
      " [[139992   2485]\n",
      " [  2067   3091]]\n",
      "\n",
      "MCC_Score\n",
      ":0.5604118780425904\n",
      "\n",
      "f1_score: \n",
      " 0.5759269610583193\n",
      "\n",
      "recall_score: \n",
      " 0.5992632803412176\n",
      "\n",
      "Precision_Score\n",
      ":0.5543400286944046\n"
     ]
    }
   ],
   "source": [
    "y_pred = ann.predict(x_test)\n",
    "y_pred = np.round(y_pred)\n",
    "print_classification_result(y_test, y_pred)"
   ]
  },
  {
   "cell_type": "code",
   "execution_count": 37,
   "id": "impossible-biodiversity",
   "metadata": {},
   "outputs": [
    {
     "data": {
      "image/png": "[encoded data removed]",
      "text/plain": [
       "<Figure size 504x360 with 2 Axes>"
      ]
     },
     "metadata": {
      "needs_background": "light"
     },
     "output_type": "display_data"
    }
   ],
   "source": [
    "from sklearn.metrics import plot_confusion_matrix\n",
    "plt.figure(figsize = (7,5))\n",
    "cm = sb.heatmap(confusion_matrix(y_test, y_pred), annot=True, cmap='Blues', fmt='d')\n",
    "cm.set_title('Artificial Neural Network')\n",
    "plt.show()"
   ]
  },
  {
   "cell_type": "markdown",
   "id": "known-transport",
   "metadata": {},
   "source": [
    "## Convolutional Neural Network"
   ]
  },
  {
   "cell_type": "code",
   "execution_count": 63,
   "id": "moral-guidance",
   "metadata": {},
   "outputs": [],
   "source": [
    "x_train = np.array(x_train).reshape(x_train.shape[0], x_train.shape[1], 1)\n",
    "x_test = np.array(x_test).reshape(x_test.shape[0], x_test.shape[1], 1)"
   ]
  },
  {
   "cell_type": "code",
   "execution_count": 64,
   "id": "typical-society",
   "metadata": {},
   "outputs": [],
   "source": [
    "cnn = tf.keras.models.Sequential()\n",
    "cnn.add(tf.keras.layers.Conv1D(filters = 64, kernel_size = 3, activation = 'relu', input_shape = [x_train.shape[1], 1]))\n",
    "cnn.add(tf.keras.layers.MaxPool1D(pool_size = 2, strides = 1))\n",
    "cnn.add(tf.keras.layers.Conv1D(filters = 64, kernel_size = 2, activation = 'relu'))\n",
    "cnn.add(tf.keras.layers.MaxPool1D(pool_size = 2, strides = 1))\n",
    "cnn.add(tf.keras.layers.Flatten())\n",
    "cnn.add(tf.keras.layers.Dense(units = 128, activation = 'relu'))\n",
    "cnn.add(tf.keras.layers.Dense(units = 1, activation = 'sigmoid'))\n",
    "cnn.compile(optimizer = 'adam', loss = 'binary_crossentropy', metrics = ['accuracy'])"
   ]
  },
  {
   "cell_type": "code",
   "execution_count": 65,
   "id": "reflected-handbook",
   "metadata": {},
   "outputs": [
    {
     "name": "stdout",
     "output_type": "stream",
     "text": [
      "Epoch 1/20\n",
      "18699/18699 [==============================] - 444s 24ms/step - loss: 0.1460 - accuracy: 0.9509 - val_loss: 0.1246 - val_accuracy: 0.9467\n",
      "Epoch 2/20\n",
      "18699/18699 [==============================] - 434s 23ms/step - loss: 0.0959 - accuracy: 0.9701 - val_loss: 0.0714 - val_accuracy: 0.9691\n",
      "Epoch 3/20\n",
      "18699/18699 [==============================] - 392s 21ms/step - loss: 0.0811 - accuracy: 0.9750 - val_loss: 0.0724 - val_accuracy: 0.9721\n",
      "Epoch 4/20\n",
      "18699/18699 [==============================] - 386s 21ms/step - loss: 0.0723 - accuracy: 0.9780 - val_loss: 0.0764 - val_accuracy: 0.9719\n",
      "Epoch 5/20\n",
      "18699/18699 [==============================] - 386s 21ms/step - loss: 0.0651 - accuracy: 0.9802 - val_loss: 0.0459 - val_accuracy: 0.9814\n",
      "Epoch 6/20\n",
      "18699/18699 [==============================] - 385s 21ms/step - loss: 0.0605 - accuracy: 0.9820 - val_loss: 0.0472 - val_accuracy: 0.9812\n",
      "Epoch 7/20\n",
      "18699/18699 [==============================] - 390s 21ms/step - loss: 0.0571 - accuracy: 0.9830 - val_loss: 0.0348 - val_accuracy: 0.9862\n",
      "Epoch 8/20\n",
      "18699/18699 [==============================] - 391s 21ms/step - loss: 0.0543 - accuracy: 0.9838 - val_loss: 0.0512 - val_accuracy: 0.9809\n",
      "Epoch 9/20\n",
      "18699/18699 [==============================] - 395s 21ms/step - loss: 0.0520 - accuracy: 0.9847 - val_loss: 0.0404 - val_accuracy: 0.9840\n",
      "Epoch 10/20\n",
      "18699/18699 [==============================] - 402s 21ms/step - loss: 0.0498 - accuracy: 0.9852 - val_loss: 0.0732 - val_accuracy: 0.9725\n",
      "Epoch 11/20\n",
      "18699/18699 [==============================] - 404s 22ms/step - loss: 0.0481 - accuracy: 0.9858 - val_loss: 0.0391 - val_accuracy: 0.9844\n",
      "Epoch 12/20\n",
      "18699/18699 [==============================] - 416s 22ms/step - loss: 0.0464 - accuracy: 0.9862 - val_loss: 0.0272 - val_accuracy: 0.9888\n",
      "Epoch 13/20\n",
      "18699/18699 [==============================] - 442s 24ms/step - loss: 0.0446 - accuracy: 0.9866 - val_loss: 0.0282 - val_accuracy: 0.9890\n",
      "Epoch 14/20\n",
      "18699/18699 [==============================] - 443s 24ms/step - loss: 0.0441 - accuracy: 0.9869 - val_loss: 0.0471 - val_accuracy: 0.9828\n",
      "Epoch 15/20\n",
      "18699/18699 [==============================] - 412s 22ms/step - loss: 0.0430 - accuracy: 0.9873 - val_loss: 0.0330 - val_accuracy: 0.9868\n",
      "Epoch 16/20\n",
      "18699/18699 [==============================] - 414s 22ms/step - loss: 0.0420 - accuracy: 0.9875 - val_loss: 0.0250 - val_accuracy: 0.9901\n",
      "Epoch 17/20\n",
      "18699/18699 [==============================] - 413s 22ms/step - loss: 0.0409 - accuracy: 0.9878 - val_loss: 0.0232 - val_accuracy: 0.9901\n",
      "Epoch 18/20\n",
      "18699/18699 [==============================] - 417s 22ms/step - loss: 0.0405 - accuracy: 0.9881 - val_loss: 0.0288 - val_accuracy: 0.9889\n",
      "Epoch 19/20\n",
      "18699/18699 [==============================] - 419s 22ms/step - loss: 0.0403 - accuracy: 0.9882 - val_loss: 0.0295 - val_accuracy: 0.9893\n",
      "Epoch 20/20\n",
      "18699/18699 [==============================] - 415s 22ms/step - loss: 0.0393 - accuracy: 0.9884 - val_loss: 0.0227 - val_accuracy: 0.9913\n"
     ]
    }
   ],
   "source": [
    "loss = cnn.fit(x_train, y_train, batch_size = 32, epochs = 20, verbose = 1, validation_split = 0.3)"
   ]
  },
  {
   "cell_type": "code",
   "execution_count": 66,
   "id": "spanish-rating",
   "metadata": {},
   "outputs": [
    {
     "data": {
      "image/png": "[encoded data removed]",
      "text/plain": [
       "<Figure size 432x288 with 1 Axes>"
      ]
     },
     "metadata": {
      "needs_background": "light"
     },
     "output_type": "display_data"
    }
   ],
   "source": [
    "plt.plot(loss.history['loss'])\n",
    "plt.plot(loss.history['val_loss'])\n",
    "plt.title('model loss')\n",
    "plt.ylabel('loss')\n",
    "plt.xlabel('epoch')\n",
    "plt.legend(['train', 'test'], loc='upper left')\n",
    "plt.show()"
   ]
  },
  {
   "cell_type": "code",
   "execution_count": 67,
   "id": "corresponding-assist",
   "metadata": {},
   "outputs": [
    {
     "name": "stdout",
     "output_type": "stream",
     "text": [
      "Accuracy Score\n",
      ": 97.42%\n",
      "Confusion Matrix: \n",
      " [[141038   1439]\n",
      " [  2365   2793]]\n",
      "\n",
      "MCC_Score\n",
      ":0.5847547011860782\n",
      "\n",
      "f1_score: \n",
      " 0.594888178913738\n",
      "\n",
      "recall_score: \n",
      " 0.5414889492051183\n",
      "\n",
      "Precision_Score\n",
      ":0.6599716446124764\n"
     ]
    }
   ],
   "source": [
    "y_pred = cnn.predict(x_test)\n",
    "y_pred = np.round(y_pred)\n",
    "print_classification_result(y_test, y_pred)"
   ]
  },
  {
   "cell_type": "code",
   "execution_count": 68,
   "id": "rental-effort",
   "metadata": {},
   "outputs": [
    {
     "data": {
      "image/png": "[encoded data removed]",
      "text/plain": [
       "<Figure size 504x360 with 2 Axes>"
      ]
     },
     "metadata": {
      "needs_background": "light"
     },
     "output_type": "display_data"
    }
   ],
   "source": [
    "from sklearn.metrics import plot_confusion_matrix\n",
    "plt.figure(figsize = (7,5))\n",
    "cm = sb.heatmap(confusion_matrix(y_test, y_pred), annot=True, cmap='Blues', fmt='d')\n",
    "cm.set_title('Convolutional Neural Network')\n",
    "plt.show()"
   ]
  },
  {
   "cell_type": "code",
   "execution_count": null,
   "id": "weird-portrait",
   "metadata": {},
   "outputs": [],
   "source": []
  }
 ],
 "metadata": {
  "kernelspec": {
   "display_name": "Python 3",
   "language": "python",
   "name": "python3"
  },
  "language_info": {
   "codemirror_mode": {
    "name": "ipython",
    "version": 3
   },
   "file_extension": ".py",
   "mimetype": "text/x-python",
   "name": "python",
   "nbconvert_exporter": "python",
   "pygments_lexer": "ipython3",
   "version": "3.8.8"
  }
 },
 "nbformat": 4,
 "nbformat_minor": 5
}
