{
 "cells": [
  {
   "cell_type": "code",
   "execution_count": 3,
   "id": "first-cleaner",
   "metadata": {},
   "outputs": [],
   "source": [
    "import numpy as np\n",
    "import pandas as pd\n",
    "import tensorflow as tf\n",
    "import matplotlib.pyplot as plt\n",
    "from sklearn.compose import ColumnTransformer"
   ]
  },
  {
   "cell_type": "code",
   "execution_count": 4,
   "id": "frozen-sandwich",
   "metadata": {},
   "outputs": [
    {
     "name": "stdout",
     "output_type": "stream",
     "text": [
      "(284807, 31)\n"
     ]
    }
   ],
   "source": [
    "card_data = pd.read_csv('creditcard.csv\\creditcard.csv')\n",
    "print(card_data.shape)\n",
    "X = card_data.iloc[:, :-1]\n",
    "Y = card_data.iloc[:, -1]"
   ]
  },
  {
   "cell_type": "markdown",
   "id": "fallen-delhi",
   "metadata": {},
   "source": [
    "## Data Preprocessing"
   ]
  },
  {
   "cell_type": "code",
   "execution_count": 5,
   "id": "proud-burden",
   "metadata": {},
   "outputs": [],
   "source": [
    "#Split dataset into test train and valid\n",
    "from sklearn.model_selection import train_test_split\n",
    "from sklearn.preprocessing import StandardScaler\n",
    "x_train, x_test, y_train, y_test = train_test_split(X, Y, stratify = Y, test_size = 0.25, random_state = 5)"
   ]
  },
  {
   "cell_type": "code",
   "execution_count": 6,
   "id": "heard-cardiff",
   "metadata": {},
   "outputs": [],
   "source": [
    "ct = ColumnTransformer([\n",
    "        ('std', StandardScaler(), ['Amount', 'Time'])\n",
    "    ], remainder='passthrough')\n",
    "x_train = ct.fit_transform(x_train)\n",
    "x_test = ct.transform(x_test)"
   ]
  },
  {
   "cell_type": "code",
   "execution_count": 7,
   "id": "beneficial-florist",
   "metadata": {},
   "outputs": [
    {
     "name": "stdout",
     "output_type": "stream",
     "text": [
      "Non-Fraud weight: 0.9982725123475574\n",
      "Fraud weight: 0.0017274876524425926\n"
     ]
    }
   ],
   "source": [
    "weight_nf = y_train.value_counts()[0] / len(y_train)\n",
    "weight_f = y_train.value_counts()[1] / len(y_train)\n",
    "print(f\"Non-Fraud weight: {weight_nf}\")\n",
    "print(f\"Fraud weight: {weight_f}\")"
   ]
  },
  {
   "cell_type": "code",
   "execution_count": 8,
   "id": "lightweight-gender",
   "metadata": {},
   "outputs": [
    {
     "name": "stdout",
     "output_type": "stream",
     "text": [
      "Train Data shape: (213605, 30) Train Class Data shape: (213605,)\n",
      "Test Data shape: (71202, 30) Test Class Data shape: (71202,)\n"
     ]
    }
   ],
   "source": [
    "print(f\"Train Data shape: {x_train.shape} Train Class Data shape: {y_train.shape}\")\n",
    "print(f\"Test Data shape: {x_test.shape} Test Class Data shape: {y_test.shape}\")"
   ]
  },
  {
   "cell_type": "code",
   "execution_count": 9,
   "id": "finished-greene",
   "metadata": {},
   "outputs": [],
   "source": [
    "from sklearn.metrics import accuracy_score, confusion_matrix, recall_score, f1_score, precision_score, matthews_corrcoef\n",
    "\n",
    "\n",
    "def print_classification_result(true, predict):\n",
    "    print(f\"Accuracy Score: {accuracy_score(true, predict) * 100:.2f}%\")\n",
    "    print(f\"Confusion Matrix: \\n {confusion_matrix(true, predict)}\\n\")\n",
    "    print(f\"MCC_Score:{matthews_corrcoef(true, predict)}\\n\")\n",
    "    print(f\"f1_score: \\n {f1_score(true, predict)}\\n\")\n",
    "    print(f\"recall_score: \\n {recall_score(true, predict)}\\n\")\n",
    "    print(f\"Precision_Score:{precision_score(true, predict)}\")"
   ]
  },
  {
   "cell_type": "code",
   "execution_count": 43,
   "id": "earned-eating",
   "metadata": {},
   "outputs": [],
   "source": [
    "x_train = np.array(x_train).reshape(x_train.shape[0], x_train.shape[1], 1)\n",
    "x_test = np.array(x_test).reshape(x_test.shape[0], x_test.shape[1], 1)"
   ]
  },
  {
   "cell_type": "markdown",
   "id": "sixth-differential",
   "metadata": {},
   "source": [
    "## Convolution Neural Network"
   ]
  },
  {
   "cell_type": "code",
   "execution_count": 74,
   "id": "every-amsterdam",
   "metadata": {},
   "outputs": [],
   "source": [
    "cnn = tf.keras.models.Sequential()"
   ]
  },
  {
   "cell_type": "code",
   "execution_count": 75,
   "id": "micro-annotation",
   "metadata": {},
   "outputs": [],
   "source": [
    "cnn.add(tf.keras.layers.Conv1D(filters = 64, kernel_size = 3, activation = 'relu', input_shape = [30, 1]))\n",
    "cnn.add(tf.keras.layers.MaxPool1D(pool_size = 2, strides = 1))"
   ]
  },
  {
   "cell_type": "code",
   "execution_count": 76,
   "id": "olive-tracker",
   "metadata": {},
   "outputs": [],
   "source": [
    "cnn.add(tf.keras.layers.Conv1D(filters = 64, kernel_size = 2, activation = 'relu'))\n",
    "cnn.add(tf.keras.layers.MaxPool1D(pool_size = 2, strides = 1))"
   ]
  },
  {
   "cell_type": "code",
   "execution_count": 77,
   "id": "comparable-simulation",
   "metadata": {},
   "outputs": [],
   "source": [
    "cnn.add(tf.keras.layers.Flatten())"
   ]
  },
  {
   "cell_type": "code",
   "execution_count": 78,
   "id": "japanese-locking",
   "metadata": {},
   "outputs": [],
   "source": [
    "cnn.add(tf.keras.layers.Dense(units = 128, activation = 'relu'))"
   ]
  },
  {
   "cell_type": "code",
   "execution_count": 79,
   "id": "formed-enough",
   "metadata": {},
   "outputs": [],
   "source": [
    "cnn.add(tf.keras.layers.Dense(units = 1, activation = 'sigmoid'))"
   ]
  },
  {
   "cell_type": "code",
   "execution_count": 80,
   "id": "coastal-luxury",
   "metadata": {},
   "outputs": [],
   "source": [
    "cnn.compile(optimizer = 'adam', loss = 'binary_crossentropy', metrics = ['accuracy'])"
   ]
  },
  {
   "cell_type": "code",
   "execution_count": 81,
   "id": "complete-sussex",
   "metadata": {},
   "outputs": [
    {
     "name": "stdout",
     "output_type": "stream",
     "text": [
      "Epoch 1/10\n",
      "4673/4673 [==============================] - 17s 4ms/step - loss: 0.0068 - accuracy: 0.9990 - val_loss: 0.0039 - val_accuracy: 0.9991\n",
      "Epoch 2/10\n",
      "4673/4673 [==============================] - 15s 3ms/step - loss: 0.0038 - accuracy: 0.9993 - val_loss: 0.0046 - val_accuracy: 0.9993\n",
      "Epoch 3/10\n",
      "4673/4673 [==============================] - 15s 3ms/step - loss: 0.0036 - accuracy: 0.9994 - val_loss: 0.0039 - val_accuracy: 0.9992\n",
      "Epoch 4/10\n",
      "4673/4673 [==============================] - 15s 3ms/step - loss: 0.0032 - accuracy: 0.9994 - val_loss: 0.0040 - val_accuracy: 0.9992\n",
      "Epoch 5/10\n",
      "4673/4673 [==============================] - 14s 3ms/step - loss: 0.0033 - accuracy: 0.9994 - val_loss: 0.0044 - val_accuracy: 0.9991\n",
      "Epoch 6/10\n",
      "4673/4673 [==============================] - 15s 3ms/step - loss: 0.0032 - accuracy: 0.9994 - val_loss: 0.0036 - val_accuracy: 0.9993\n",
      "Epoch 7/10\n",
      "4673/4673 [==============================] - 16s 4ms/step - loss: 0.0044 - accuracy: 0.9994 - val_loss: 0.0034 - val_accuracy: 0.9992\n",
      "Epoch 8/10\n",
      "4673/4673 [==============================] - 17s 4ms/step - loss: 0.0033 - accuracy: 0.9994 - val_loss: 0.0039 - val_accuracy: 0.9992\n",
      "Epoch 9/10\n",
      "4673/4673 [==============================] - 15s 3ms/step - loss: 0.0037 - accuracy: 0.9994 - val_loss: 0.0041 - val_accuracy: 0.9992\n",
      "Epoch 10/10\n",
      "4673/4673 [==============================] - 16s 3ms/step - loss: 0.0033 - accuracy: 0.9994 - val_loss: 0.0037 - val_accuracy: 0.9993\n"
     ]
    }
   ],
   "source": [
    "loss = cnn.fit(x_train, y_train, batch_size = 32, epochs = 10, verbose = 1, validation_split=0.3)"
   ]
  },
  {
   "cell_type": "code",
   "execution_count": 82,
   "id": "brutal-adoption",
   "metadata": {},
   "outputs": [
    {
     "data": {
      "image/png": "[encoded data removed]",
      "text/plain": [
       "<Figure size 432x288 with 1 Axes>"
      ]
     },
     "metadata": {
      "needs_background": "light"
     },
     "output_type": "display_data"
    }
   ],
   "source": [
    "plt.plot(loss.history['loss'])\n",
    "plt.plot(loss.history['val_loss'])\n",
    "plt.title('model loss')\n",
    "plt.ylabel('loss')\n",
    "plt.xlabel('epoch')\n",
    "plt.legend(['train', 'valid'], loc='upper left')\n",
    "plt.show()"
   ]
  },
  {
   "cell_type": "code",
   "execution_count": 83,
   "id": "eligible-beast",
   "metadata": {},
   "outputs": [
    {
     "name": "stdout",
     "output_type": "stream",
     "text": [
      "Accuracy Score: 99.93%\n",
      "Confusion Matrix: \n",
      " [[71069    10]\n",
      " [   38    85]]\n",
      "\n",
      "MCC_Score:0.786014611164846\n",
      "\n",
      "f1_score: \n",
      " 0.7798165137614679\n",
      "\n",
      "recall_score: \n",
      " 0.6910569105691057\n",
      "\n",
      "Precision_Score:0.8947368421052632\n"
     ]
    }
   ],
   "source": [
    "y_pred = cnn.predict(x_test)\n",
    "y_pred = np.round(y_pred)\n",
    "print_classification_result(y_test, y_pred)"
   ]
  },
  {
   "cell_type": "markdown",
   "id": "phantom-antarctica",
   "metadata": {},
   "source": [
    "## Parameter Testing"
   ]
  },
  {
   "cell_type": "code",
   "execution_count": 31,
   "id": "forced-marijuana",
   "metadata": {},
   "outputs": [],
   "source": [
    "cnn = tf.keras.models.Sequential()\n",
    "cnn.add(tf.keras.layers.Conv1D(filters = 64, kernel_size = 4, activation = 'relu', input_shape = [x_train.shape[1], 1]))\n",
    "cnn.add(tf.keras.layers.MaxPool1D(pool_size = 2, strides = 1))\n",
    "cnn.add(tf.keras.layers.Conv1D(filters = 64, kernel_size = 3, activation = 'relu'))\n",
    "cnn.add(tf.keras.layers.MaxPool1D(pool_size = 2, strides = 1))\n",
    "cnn.add(tf.keras.layers.Flatten())\n",
    "cnn.add(tf.keras.layers.Dense(units = 128, activation = 'relu'))\n",
    "cnn.add(tf.keras.layers.Dense(units = 1, activation = 'sigmoid'))\n",
    "cnn.compile(optimizer = 'adam', loss = 'binary_crossentropy', metrics = ['accuracy'])"
   ]
  },
  {
   "cell_type": "code",
   "execution_count": 32,
   "id": "desperate-consideration",
   "metadata": {},
   "outputs": [
    {
     "name": "stdout",
     "output_type": "stream",
     "text": [
      "Epoch 1/10\n",
      "4673/4673 [==============================] - 15s 3ms/step - loss: 0.0079 - accuracy: 0.9990 - val_loss: 0.0042 - val_accuracy: 0.9993\n",
      "Epoch 2/10\n",
      "4673/4673 [==============================] - 13s 3ms/step - loss: 0.0039 - accuracy: 0.9993 - val_loss: 0.0039 - val_accuracy: 0.9993\n",
      "Epoch 3/10\n",
      "4673/4673 [==============================] - 12s 3ms/step - loss: 0.0037 - accuracy: 0.9993 - val_loss: 0.0038 - val_accuracy: 0.9993\n",
      "Epoch 4/10\n",
      "4673/4673 [==============================] - 13s 3ms/step - loss: 0.0037 - accuracy: 0.9993 - val_loss: 0.0037 - val_accuracy: 0.9992\n",
      "Epoch 5/10\n",
      "4673/4673 [==============================] - 13s 3ms/step - loss: 0.0036 - accuracy: 0.9994 - val_loss: 0.0038 - val_accuracy: 0.9993\n",
      "Epoch 6/10\n",
      "4673/4673 [==============================] - 12s 3ms/step - loss: 0.0032 - accuracy: 0.9994 - val_loss: 0.0050 - val_accuracy: 0.9988\n",
      "Epoch 7/10\n",
      "4673/4673 [==============================] - 12s 3ms/step - loss: 0.0034 - accuracy: 0.9994 - val_loss: 0.0049 - val_accuracy: 0.9992\n",
      "Epoch 8/10\n",
      "4673/4673 [==============================] - 12s 3ms/step - loss: 0.0033 - accuracy: 0.9995 - val_loss: 0.0038 - val_accuracy: 0.9992\n",
      "Epoch 9/10\n",
      "4673/4673 [==============================] - 12s 3ms/step - loss: 0.0034 - accuracy: 0.9994 - val_loss: 0.0044 - val_accuracy: 0.9993\n",
      "Epoch 10/10\n",
      "4673/4673 [==============================] - 12s 3ms/step - loss: 0.0030 - accuracy: 0.9994 - val_loss: 0.0035 - val_accuracy: 0.9993\n"
     ]
    }
   ],
   "source": [
    "loss = cnn.fit(x_train, y_train, batch_size = 32, epochs = 10, verbose = 1, validation_split = 0.3)"
   ]
  },
  {
   "cell_type": "code",
   "execution_count": 33,
   "id": "published-prefix",
   "metadata": {},
   "outputs": [
    {
     "data": {
      "image/png": "[encoded data removed]",
      "text/plain": [
       "<Figure size 432x288 with 1 Axes>"
      ]
     },
     "metadata": {
      "needs_background": "light"
     },
     "output_type": "display_data"
    }
   ],
   "source": [
    "plt.plot(loss.history['loss'])\n",
    "plt.plot(loss.history['val_loss'])\n",
    "plt.title('model loss')\n",
    "plt.ylabel('loss')\n",
    "plt.xlabel('epoch')\n",
    "plt.legend(['train', 'valid'], loc='upper left')\n",
    "plt.show()"
   ]
  },
  {
   "cell_type": "code",
   "execution_count": 34,
   "id": "moderate-people",
   "metadata": {},
   "outputs": [
    {
     "name": "stdout",
     "output_type": "stream",
     "text": [
      "Accuracy Score: 99.93%\n",
      "Confusion Matrix: \n",
      " [[71062    17]\n",
      " [   30    93]]\n",
      "\n",
      "MCC_Score:0.7992026954829927\n",
      "\n",
      "f1_score: \n",
      " 0.7982832618025751\n",
      "\n",
      "recall_score: \n",
      " 0.7560975609756098\n",
      "\n",
      "Precision_Score:0.8454545454545455\n"
     ]
    }
   ],
   "source": [
    "y_pred = cnn.predict(x_test)\n",
    "y_pred = np.round(y_pred)\n",
    "print_classification_result(y_test, y_pred)"
   ]
  },
  {
   "cell_type": "code",
   "execution_count": 35,
   "id": "junior-artist",
   "metadata": {},
   "outputs": [],
   "source": [
    "cnn = tf.keras.models.Sequential()\n",
    "cnn.add(tf.keras.layers.Conv1D(filters = 128, kernel_size = 3, activation = 'relu', input_shape = [x_train.shape[1], 1]))\n",
    "cnn.add(tf.keras.layers.MaxPool1D(pool_size = 2, strides = 1))\n",
    "cnn.add(tf.keras.layers.Conv1D(filters = 128, kernel_size = 2, activation = 'relu'))\n",
    "cnn.add(tf.keras.layers.MaxPool1D(pool_size = 2, strides = 1))\n",
    "cnn.add(tf.keras.layers.Flatten())\n",
    "cnn.add(tf.keras.layers.Dense(units = 128, activation = 'relu'))\n",
    "cnn.add(tf.keras.layers.Dense(units = 1, activation = 'sigmoid'))\n",
    "cnn.compile(optimizer = 'adam', loss = 'binary_crossentropy', metrics = ['accuracy'])"
   ]
  },
  {
   "cell_type": "code",
   "execution_count": 36,
   "id": "piano-somerset",
   "metadata": {},
   "outputs": [
    {
     "name": "stdout",
     "output_type": "stream",
     "text": [
      "Epoch 1/10\n",
      "4673/4673 [==============================] - 25s 5ms/step - loss: 0.0065 - accuracy: 0.9989 - val_loss: 0.0052 - val_accuracy: 0.9992\n",
      "Epoch 2/10\n",
      "4673/4673 [==============================] - 25s 5ms/step - loss: 0.0040 - accuracy: 0.9993 - val_loss: 0.0037 - val_accuracy: 0.9993\n",
      "Epoch 3/10\n",
      "4673/4673 [==============================] - 25s 5ms/step - loss: 0.0039 - accuracy: 0.9993 - val_loss: 0.0047 - val_accuracy: 0.9992\n",
      "Epoch 4/10\n",
      "4673/4673 [==============================] - 25s 5ms/step - loss: 0.0045 - accuracy: 0.9993 - val_loss: 0.0043 - val_accuracy: 0.9992\n",
      "Epoch 5/10\n",
      "4673/4673 [==============================] - 25s 5ms/step - loss: 0.0038 - accuracy: 0.9994 - val_loss: 0.0039 - val_accuracy: 0.9993\n",
      "Epoch 6/10\n",
      "4673/4673 [==============================] - 26s 6ms/step - loss: 0.0036 - accuracy: 0.9994 - val_loss: 0.0034 - val_accuracy: 0.9993\n",
      "Epoch 7/10\n",
      "4673/4673 [==============================] - 25s 5ms/step - loss: 0.0035 - accuracy: 0.9994 - val_loss: 0.0043 - val_accuracy: 0.9993\n",
      "Epoch 8/10\n",
      "4673/4673 [==============================] - 26s 6ms/step - loss: 0.0038 - accuracy: 0.9994 - val_loss: 0.0041 - val_accuracy: 0.9993\n",
      "Epoch 9/10\n",
      "4673/4673 [==============================] - 26s 5ms/step - loss: 0.0043 - accuracy: 0.9993 - val_loss: 0.0043 - val_accuracy: 0.9989\n",
      "Epoch 10/10\n",
      "4673/4673 [==============================] - 25s 5ms/step - loss: 0.0037 - accuracy: 0.9994 - val_loss: 0.0039 - val_accuracy: 0.9993\n"
     ]
    }
   ],
   "source": [
    "loss = cnn.fit(x_train, y_train, batch_size = 32, epochs = 10, verbose = 1, validation_split = 0.3)"
   ]
  },
  {
   "cell_type": "code",
   "execution_count": 37,
   "id": "portuguese-tuning",
   "metadata": {},
   "outputs": [
    {
     "data": {
      "image/png": "[encoded data removed]",
      "text/plain": [
       "<Figure size 432x288 with 1 Axes>"
      ]
     },
     "metadata": {
      "needs_background": "light"
     },
     "output_type": "display_data"
    }
   ],
   "source": [
    "plt.plot(loss.history['loss'])\n",
    "plt.plot(loss.history['val_loss'])\n",
    "plt.title('model loss')\n",
    "plt.ylabel('loss')\n",
    "plt.xlabel('epoch')\n",
    "plt.legend(['train', 'valid'], loc='upper left')\n",
    "plt.show()"
   ]
  },
  {
   "cell_type": "code",
   "execution_count": 38,
   "id": "serious-hours",
   "metadata": {},
   "outputs": [
    {
     "name": "stdout",
     "output_type": "stream",
     "text": [
      "Accuracy Score: 99.94%\n",
      "Confusion Matrix: \n",
      " [[71063    16]\n",
      " [   26    97]]\n",
      "\n",
      "MCC_Score:0.822480152960686\n",
      "\n",
      "f1_score: \n",
      " 0.8220338983050847\n",
      "\n",
      "recall_score: \n",
      " 0.7886178861788617\n",
      "\n",
      "Precision_Score:0.8584070796460177\n"
     ]
    }
   ],
   "source": [
    "y_pred = cnn.predict(x_test)\n",
    "y_pred = np.round(y_pred)\n",
    "print_classification_result(y_test, y_pred)"
   ]
  },
  {
   "cell_type": "code",
   "execution_count": 39,
   "id": "compound-devon",
   "metadata": {},
   "outputs": [],
   "source": [
    "cnn = tf.keras.models.Sequential()\n",
    "cnn.add(tf.keras.layers.Conv1D(filters = 32, kernel_size = 3, activation = 'relu', input_shape = [x_train.shape[1], 1]))\n",
    "cnn.add(tf.keras.layers.MaxPool1D(pool_size = 2, strides = 1))\n",
    "cnn.add(tf.keras.layers.Conv1D(filters = 32, kernel_size = 2, activation = 'relu'))\n",
    "cnn.add(tf.keras.layers.MaxPool1D(pool_size = 2, strides = 1))\n",
    "cnn.add(tf.keras.layers.Flatten())\n",
    "cnn.add(tf.keras.layers.Dense(units = 128, activation = 'relu'))\n",
    "cnn.add(tf.keras.layers.Dense(units = 1, activation = 'sigmoid'))\n",
    "cnn.compile(optimizer = 'adam', loss = 'binary_crossentropy', metrics = ['accuracy'])"
   ]
  },
  {
   "cell_type": "code",
   "execution_count": 40,
   "id": "cooperative-hygiene",
   "metadata": {},
   "outputs": [
    {
     "name": "stdout",
     "output_type": "stream",
     "text": [
      "Epoch 1/10\n",
      "4673/4673 [==============================] - 9s 2ms/step - loss: 0.0057 - accuracy: 0.9991 - val_loss: 0.0037 - val_accuracy: 0.9993\n",
      "Epoch 2/10\n",
      "4673/4673 [==============================] - 9s 2ms/step - loss: 0.0036 - accuracy: 0.9994 - val_loss: 0.0045 - val_accuracy: 0.9993\n",
      "Epoch 3/10\n",
      "4673/4673 [==============================] - 9s 2ms/step - loss: 0.0034 - accuracy: 0.9994 - val_loss: 0.0035 - val_accuracy: 0.9993\n",
      "Epoch 4/10\n",
      "4673/4673 [==============================] - 9s 2ms/step - loss: 0.0032 - accuracy: 0.9994 - val_loss: 0.0033 - val_accuracy: 0.9993\n",
      "Epoch 5/10\n",
      "4673/4673 [==============================] - 9s 2ms/step - loss: 0.0030 - accuracy: 0.9995 - val_loss: 0.0035 - val_accuracy: 0.9993\n",
      "Epoch 6/10\n",
      "4673/4673 [==============================] - 9s 2ms/step - loss: 0.0030 - accuracy: 0.9994 - val_loss: 0.0038 - val_accuracy: 0.9992\n",
      "Epoch 7/10\n",
      "4673/4673 [==============================] - 9s 2ms/step - loss: 0.0029 - accuracy: 0.9995 - val_loss: 0.0038 - val_accuracy: 0.9993\n",
      "Epoch 8/10\n",
      "4673/4673 [==============================] - 9s 2ms/step - loss: 0.0029 - accuracy: 0.9994 - val_loss: 0.0035 - val_accuracy: 0.9992\n",
      "Epoch 9/10\n",
      "4673/4673 [==============================] - 9s 2ms/step - loss: 0.0031 - accuracy: 0.9995 - val_loss: 0.0036 - val_accuracy: 0.9994\n",
      "Epoch 10/10\n",
      "4673/4673 [==============================] - 9s 2ms/step - loss: 0.0025 - accuracy: 0.9995 - val_loss: 0.0037 - val_accuracy: 0.9993\n"
     ]
    }
   ],
   "source": [
    "loss = cnn.fit(x_train, y_train, batch_size = 32, epochs = 10, verbose = 1, validation_split = 0.3)"
   ]
  },
  {
   "cell_type": "code",
   "execution_count": 41,
   "id": "international-avatar",
   "metadata": {},
   "outputs": [
    {
     "data": {
      "image/png": "[encoded data removed]",
      "text/plain": [
       "<Figure size 432x288 with 1 Axes>"
      ]
     },
     "metadata": {
      "needs_background": "light"
     },
     "output_type": "display_data"
    }
   ],
   "source": [
    "plt.plot(loss.history['loss'])\n",
    "plt.plot(loss.history['val_loss'])\n",
    "plt.title('model loss')\n",
    "plt.ylabel('loss')\n",
    "plt.xlabel('epoch')\n",
    "plt.legend(['train', 'valid'], loc='upper left')\n",
    "plt.show()"
   ]
  },
  {
   "cell_type": "code",
   "execution_count": 42,
   "id": "fitting-hotel",
   "metadata": {},
   "outputs": [
    {
     "name": "stdout",
     "output_type": "stream",
     "text": [
      "Accuracy Score: 99.95%\n",
      "Confusion Matrix: \n",
      " [[71074     5]\n",
      " [   34    89]]\n",
      "\n",
      "MCC_Score:0.8274518357689021\n",
      "\n",
      "f1_score: \n",
      " 0.8202764976958526\n",
      "\n",
      "recall_score: \n",
      " 0.7235772357723578\n",
      "\n",
      "Precision_Score:0.9468085106382979\n"
     ]
    }
   ],
   "source": [
    "y_pred = cnn.predict(x_test)\n",
    "y_pred = np.round(y_pred)\n",
    "print_classification_result(y_test, y_pred)"
   ]
  },
  {
   "cell_type": "code",
   "execution_count": null,
   "id": "sunset-craps",
   "metadata": {},
   "outputs": [],
   "source": []
  }
 ],
 "metadata": {
  "kernelspec": {
   "display_name": "Python 3",
   "language": "python",
   "name": "python3"
  },
  "language_info": {
   "codemirror_mode": {
    "name": "ipython",
    "version": 3
   },
   "file_extension": ".py",
   "mimetype": "text/x-python",
   "name": "python",
   "nbconvert_exporter": "python",
   "pygments_lexer": "ipython3",
   "version": "3.8.8"
  }
 },
 "nbformat": 4,
 "nbformat_minor": 5
}
