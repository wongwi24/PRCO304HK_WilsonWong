{
 "cells": [
  {
   "cell_type": "code",
   "execution_count": 1,
   "id": "supposed-specific",
   "metadata": {},
   "outputs": [],
   "source": [
    "import numpy as np\n",
    "import pandas as pd\n",
    "import tensorflow as tf\n",
    "from sklearn.compose import ColumnTransformer\n",
    "import matplotlib.pyplot as plt"
   ]
  },
  {
   "cell_type": "code",
   "execution_count": 2,
   "id": "offshore-harmony",
   "metadata": {},
   "outputs": [
    {
     "name": "stdout",
     "output_type": "stream",
     "text": [
      "(284807, 31)\n"
     ]
    }
   ],
   "source": [
    "card_data = pd.read_csv('creditcard.csv\\creditcard.csv')\n",
    "print(card_data.shape)\n",
    "X = card_data.iloc[:, :-1]\n",
    "Y = card_data.iloc[:, -1]"
   ]
  },
  {
   "cell_type": "markdown",
   "id": "multiple-magnet",
   "metadata": {},
   "source": [
    "## Data Preprocessing"
   ]
  },
  {
   "cell_type": "code",
   "execution_count": 3,
   "id": "desperate-cherry",
   "metadata": {},
   "outputs": [],
   "source": [
    "#Split dataset into test train and valid\n",
    "from sklearn.model_selection import train_test_split\n",
    "from sklearn.preprocessing import StandardScaler\n",
    "x_train, x_test, y_train, y_test = train_test_split(X, Y, stratify = Y, test_size = 0.25, random_state = 5)"
   ]
  },
  {
   "cell_type": "code",
   "execution_count": 4,
   "id": "offshore-investing",
   "metadata": {},
   "outputs": [],
   "source": [
    "ct = ColumnTransformer([\n",
    "        ('std', StandardScaler(), ['Amount', 'Time'])\n",
    "    ], remainder='passthrough')\n",
    "x_train = ct.fit_transform(x_train)\n",
    "x_test = ct.transform(x_test)"
   ]
  },
  {
   "cell_type": "code",
   "execution_count": 5,
   "id": "advisory-initial",
   "metadata": {},
   "outputs": [
    {
     "name": "stdout",
     "output_type": "stream",
     "text": [
      "Non-Fraud weight: 0.9982725123475574\n",
      "Fraud weight: 0.0017274876524425926\n"
     ]
    }
   ],
   "source": [
    "weight_nf = y_train.value_counts()[0] / len(y_train)\n",
    "weight_f = y_train.value_counts()[1] / len(y_train)\n",
    "print(f\"Non-Fraud weight: {weight_nf}\")\n",
    "print(f\"Fraud weight: {weight_f}\")"
   ]
  },
  {
   "cell_type": "code",
   "execution_count": 6,
   "id": "disabled-pledge",
   "metadata": {},
   "outputs": [
    {
     "name": "stdout",
     "output_type": "stream",
     "text": [
      "Train Data shape: (213605, 30) Train Class Data shape: (213605,)\n",
      "Test Data shape: (71202, 30) Test Class Data shape: (71202,)\n"
     ]
    }
   ],
   "source": [
    "print(f\"Train Data shape: {x_train.shape} Train Class Data shape: {y_train.shape}\")\n",
    "print(f\"Test Data shape: {x_test.shape} Test Class Data shape: {y_test.shape}\")"
   ]
  },
  {
   "cell_type": "markdown",
   "id": "buried-brighton",
   "metadata": {},
   "source": [
    "## Artificial Neural Network"
   ]
  },
  {
   "cell_type": "code",
   "execution_count": 7,
   "id": "widespread-williams",
   "metadata": {},
   "outputs": [],
   "source": [
    "ann = tf.keras.models.Sequential()"
   ]
  },
  {
   "cell_type": "code",
   "execution_count": 8,
   "id": "confidential-validation",
   "metadata": {},
   "outputs": [],
   "source": [
    "ann.add(tf.keras.layers.Dense(units = 31, activation = \"relu\"))\n",
    "ann.add(tf.keras.layers.Dense(units = 15, activation = \"relu\"))\n",
    "ann.add(tf.keras.layers.Dense(units = 1, activation = \"sigmoid\"))"
   ]
  },
  {
   "cell_type": "code",
   "execution_count": 9,
   "id": "republican-hungary",
   "metadata": {},
   "outputs": [],
   "source": [
    "ann.compile(optimizer = 'adam', loss = 'binary_crossentropy', metrics = ['accuracy'])"
   ]
  },
  {
   "cell_type": "code",
   "execution_count": 10,
   "id": "binary-nerve",
   "metadata": {},
   "outputs": [
    {
     "name": "stdout",
     "output_type": "stream",
     "text": [
      "Epoch 1/11\n",
      "4673/4673 [==============================] - 3s 550us/step - loss: 0.0071 - accuracy: 0.9992 - val_loss: 0.0037 - val_accuracy: 0.9993\n",
      "Epoch 2/11\n",
      "4673/4673 [==============================] - 2s 522us/step - loss: 0.0030 - accuracy: 0.9994 - val_loss: 0.0037 - val_accuracy: 0.9993\n",
      "Epoch 3/11\n",
      "4673/4673 [==============================] - 2s 518us/step - loss: 0.0027 - accuracy: 0.9995 - val_loss: 0.0038 - val_accuracy: 0.9993\n",
      "Epoch 4/11\n",
      "4673/4673 [==============================] - 2s 518us/step - loss: 0.0025 - accuracy: 0.9995 - val_loss: 0.0036 - val_accuracy: 0.9993\n",
      "Epoch 5/11\n",
      "4673/4673 [==============================] - 2s 521us/step - loss: 0.0023 - accuracy: 0.9995 - val_loss: 0.0034 - val_accuracy: 0.9993\n",
      "Epoch 6/11\n",
      "4673/4673 [==============================] - 2s 503us/step - loss: 0.0021 - accuracy: 0.9995 - val_loss: 0.0033 - val_accuracy: 0.9993\n",
      "Epoch 7/11\n",
      "4673/4673 [==============================] - 2s 502us/step - loss: 0.0019 - accuracy: 0.9995 - val_loss: 0.0038 - val_accuracy: 0.9993\n",
      "Epoch 8/11\n",
      "4673/4673 [==============================] - 2s 510us/step - loss: 0.0018 - accuracy: 0.9996 - val_loss: 0.0039 - val_accuracy: 0.9993\n",
      "Epoch 9/11\n",
      "4673/4673 [==============================] - 3s 538us/step - loss: 0.0018 - accuracy: 0.9996 - val_loss: 0.0043 - val_accuracy: 0.9993\n",
      "Epoch 10/11\n",
      "4673/4673 [==============================] - 2s 511us/step - loss: 0.0017 - accuracy: 0.9996 - val_loss: 0.0041 - val_accuracy: 0.9993\n",
      "Epoch 11/11\n",
      "4673/4673 [==============================] - 2s 517us/step - loss: 0.0016 - accuracy: 0.9996 - val_loss: 0.0045 - val_accuracy: 0.9993\n"
     ]
    }
   ],
   "source": [
    "loss = ann.fit(x_train, y_train, batch_size = 32, epochs = 11, validation_split = 0.3)"
   ]
  },
  {
   "cell_type": "code",
   "execution_count": 7,
   "id": "revised-pollution",
   "metadata": {},
   "outputs": [],
   "source": [
    "from sklearn.metrics import accuracy_score, confusion_matrix, recall_score, f1_score, precision_score, matthews_corrcoef\n",
    "\n",
    "\n",
    "def print_classification_result(true, predict):\n",
    "    print(f\"Accuracy Score: {accuracy_score(true, predict) * 100:.2f}%\")\n",
    "    print(f\"Confusion Matrix: \\n {confusion_matrix(true, predict)}\\n\")\n",
    "    print(f\"MCC_Score:{matthews_corrcoef(true, predict)}\\n\")\n",
    "    print(f\"f1_score: \\n {f1_score(true, predict)}\\n\")\n",
    "    print(f\"recall_score: \\n {recall_score(true, predict)}\\n\")\n",
    "    print(f\"Precision_Score:{precision_score(true, predict)}\")"
   ]
  },
  {
   "cell_type": "code",
   "execution_count": 12,
   "id": "interested-rouge",
   "metadata": {},
   "outputs": [
    {
     "data": {
      "image/png": "[encoded data removed]",
      "text/plain": [
       "<Figure size 432x288 with 1 Axes>"
      ]
     },
     "metadata": {
      "needs_background": "light"
     },
     "output_type": "display_data"
    }
   ],
   "source": [
    "plt.plot(loss.history['loss'])\n",
    "plt.plot(loss.history['val_loss'])\n",
    "plt.title('model loss')\n",
    "plt.ylabel('loss')\n",
    "plt.xlabel('epoch')\n",
    "plt.legend(['train', 'valid'], loc='upper left')\n",
    "plt.show()"
   ]
  },
  {
   "cell_type": "code",
   "execution_count": 13,
   "id": "scheduled-thumbnail",
   "metadata": {},
   "outputs": [],
   "source": [
    "y_pred = ann.predict(x_test)\n",
    "y_pred = np.round(y_pred)"
   ]
  },
  {
   "cell_type": "code",
   "execution_count": 14,
   "id": "still-translation",
   "metadata": {},
   "outputs": [
    {
     "name": "stdout",
     "output_type": "stream",
     "text": [
      "Accuracy Score: 99.95%\n",
      "Confusion Matrix: \n",
      " [[71071     8]\n",
      " [   30    93]]\n",
      "\n",
      "MCC_Score:0.8341378979624028\n",
      "\n",
      "f1_score: \n",
      " 0.8303571428571429\n",
      "\n",
      "recall_score: \n",
      " 0.7560975609756098\n",
      "\n",
      "Precision_Score:0.9207920792079208\n"
     ]
    }
   ],
   "source": [
    "print_classification_result(y_test, y_pred)"
   ]
  },
  {
   "cell_type": "markdown",
   "id": "explicit-plant",
   "metadata": {},
   "source": [
    "## Parameter testing"
   ]
  },
  {
   "cell_type": "code",
   "execution_count": 8,
   "id": "minor-bronze",
   "metadata": {},
   "outputs": [],
   "source": [
    "ann = tf.keras.models.Sequential()\n",
    "ann.add(tf.keras.layers.Dense(units = 31, activation = \"relu\"))\n",
    "ann.add(tf.keras.layers.Dense(units = 20, activation = \"relu\"))\n",
    "ann.add(tf.keras.layers.Dense(units = 1, activation = \"sigmoid\"))\n",
    "ann.compile(optimizer = 'adam', loss = 'binary_crossentropy', metrics = ['accuracy'])"
   ]
  },
  {
   "cell_type": "code",
   "execution_count": 9,
   "id": "american-fiber",
   "metadata": {},
   "outputs": [
    {
     "name": "stdout",
     "output_type": "stream",
     "text": [
      "Epoch 1/11\n",
      "4673/4673 [==============================] - 3s 557us/step - loss: 0.0103 - accuracy: 0.9983 - val_loss: 0.0036 - val_accuracy: 0.9993\n",
      "Epoch 2/11\n",
      "4673/4673 [==============================] - 2s 520us/step - loss: 0.0030 - accuracy: 0.9994 - val_loss: 0.0036 - val_accuracy: 0.9993\n",
      "Epoch 3/11\n",
      "4673/4673 [==============================] - 3s 543us/step - loss: 0.0026 - accuracy: 0.9994 - val_loss: 0.0035 - val_accuracy: 0.9993\n",
      "Epoch 4/11\n",
      "4673/4673 [==============================] - 3s 545us/step - loss: 0.0024 - accuracy: 0.9995 - val_loss: 0.0041 - val_accuracy: 0.9993\n",
      "Epoch 5/11\n",
      "4673/4673 [==============================] - 3s 540us/step - loss: 0.0023 - accuracy: 0.9995 - val_loss: 0.0040 - val_accuracy: 0.9992\n",
      "Epoch 6/11\n",
      "4673/4673 [==============================] - 2s 516us/step - loss: 0.0021 - accuracy: 0.9995 - val_loss: 0.0043 - val_accuracy: 0.9993\n",
      "Epoch 7/11\n",
      "4673/4673 [==============================] - 2s 523us/step - loss: 0.0021 - accuracy: 0.9995 - val_loss: 0.0037 - val_accuracy: 0.9993\n",
      "Epoch 8/11\n",
      "4673/4673 [==============================] - 3s 562us/step - loss: 0.0018 - accuracy: 0.9995 - val_loss: 0.0042 - val_accuracy: 0.9993\n",
      "Epoch 9/11\n",
      "4673/4673 [==============================] - 3s 543us/step - loss: 0.0019 - accuracy: 0.9995 - val_loss: 0.0037 - val_accuracy: 0.9993\n",
      "Epoch 10/11\n",
      "4673/4673 [==============================] - 3s 539us/step - loss: 0.0016 - accuracy: 0.9995 - val_loss: 0.0048 - val_accuracy: 0.9993\n",
      "Epoch 11/11\n",
      "4673/4673 [==============================] - 2s 511us/step - loss: 0.0017 - accuracy: 0.9995 - val_loss: 0.0046 - val_accuracy: 0.9992\n"
     ]
    }
   ],
   "source": [
    "loss = ann.fit(x_train, y_train, batch_size = 32, epochs = 11, validation_split = 0.3)"
   ]
  },
  {
   "cell_type": "code",
   "execution_count": 10,
   "id": "sitting-bonus",
   "metadata": {},
   "outputs": [
    {
     "data": {
      "image/png": "[encoded data removed]",
      "text/plain": [
       "<Figure size 432x288 with 1 Axes>"
      ]
     },
     "metadata": {
      "needs_background": "light"
     },
     "output_type": "display_data"
    }
   ],
   "source": [
    "plt.plot(loss.history['loss'])\n",
    "plt.plot(loss.history['val_loss'])\n",
    "plt.title('model loss')\n",
    "plt.ylabel('loss')\n",
    "plt.xlabel('epoch')\n",
    "plt.legend(['train', 'valid'], loc='upper left')\n",
    "plt.show()"
   ]
  },
  {
   "cell_type": "code",
   "execution_count": 11,
   "id": "australian-reality",
   "metadata": {},
   "outputs": [],
   "source": [
    "y_pred = ann.predict(x_test)\n",
    "y_pred = np.round(y_pred)"
   ]
  },
  {
   "cell_type": "code",
   "execution_count": 12,
   "id": "liberal-antigua",
   "metadata": {},
   "outputs": [
    {
     "name": "stdout",
     "output_type": "stream",
     "text": [
      "Accuracy Score: 99.93%\n",
      "Confusion Matrix: \n",
      " [[71070     9]\n",
      " [   39    84]]\n",
      "\n",
      "MCC_Score:0.7850785219302885\n",
      "\n",
      "f1_score: \n",
      " 0.7777777777777778\n",
      "\n",
      "recall_score: \n",
      " 0.6829268292682927\n",
      "\n",
      "Precision_Score:0.9032258064516129\n"
     ]
    }
   ],
   "source": [
    "print_classification_result(y_test, y_pred)"
   ]
  },
  {
   "cell_type": "code",
   "execution_count": 13,
   "id": "defined-pennsylvania",
   "metadata": {},
   "outputs": [],
   "source": [
    "ann = tf.keras.models.Sequential()\n",
    "ann.add(tf.keras.layers.Dense(units = 31, activation = \"relu\"))\n",
    "ann.add(tf.keras.layers.Dense(units = 10, activation = \"relu\"))\n",
    "ann.add(tf.keras.layers.Dense(units = 1, activation = \"sigmoid\"))\n",
    "ann.compile(optimizer = 'adam', loss = 'binary_crossentropy', metrics = ['accuracy'])"
   ]
  },
  {
   "cell_type": "code",
   "execution_count": 14,
   "id": "accredited-clothing",
   "metadata": {},
   "outputs": [
    {
     "name": "stdout",
     "output_type": "stream",
     "text": [
      "Epoch 1/11\n",
      "4673/4673 [==============================] - 3s 549us/step - loss: 0.0090 - accuracy: 0.9990 - val_loss: 0.0049 - val_accuracy: 0.9991\n",
      "Epoch 2/11\n",
      "4673/4673 [==============================] - 3s 550us/step - loss: 0.0031 - accuracy: 0.9994 - val_loss: 0.0044 - val_accuracy: 0.9992\n",
      "Epoch 3/11\n",
      "4673/4673 [==============================] - 2s 512us/step - loss: 0.0027 - accuracy: 0.9994 - val_loss: 0.0040 - val_accuracy: 0.9992\n",
      "Epoch 4/11\n",
      "4673/4673 [==============================] - 2s 513us/step - loss: 0.0024 - accuracy: 0.9995 - val_loss: 0.0042 - val_accuracy: 0.9993\n",
      "Epoch 5/11\n",
      "4673/4673 [==============================] - 2s 534us/step - loss: 0.0023 - accuracy: 0.9994 - val_loss: 0.0041 - val_accuracy: 0.9993\n",
      "Epoch 6/11\n",
      "4673/4673 [==============================] - 2s 523us/step - loss: 0.0022 - accuracy: 0.9995 - val_loss: 0.0042 - val_accuracy: 0.9992\n",
      "Epoch 7/11\n",
      "4673/4673 [==============================] - 2s 504us/step - loss: 0.0019 - accuracy: 0.9995 - val_loss: 0.0043 - val_accuracy: 0.9993\n",
      "Epoch 8/11\n",
      "4673/4673 [==============================] - 2s 506us/step - loss: 0.0018 - accuracy: 0.9995 - val_loss: 0.0042 - val_accuracy: 0.9993\n",
      "Epoch 9/11\n",
      "4673/4673 [==============================] - 2s 505us/step - loss: 0.0018 - accuracy: 0.9995 - val_loss: 0.0044 - val_accuracy: 0.9993\n",
      "Epoch 10/11\n",
      "4673/4673 [==============================] - 2s 502us/step - loss: 0.0017 - accuracy: 0.9996 - val_loss: 0.0044 - val_accuracy: 0.9993\n",
      "Epoch 11/11\n",
      "4673/4673 [==============================] - 2s 513us/step - loss: 0.0016 - accuracy: 0.9996 - val_loss: 0.0049 - val_accuracy: 0.9993\n"
     ]
    }
   ],
   "source": [
    "loss = ann.fit(x_train, y_train, batch_size = 32, epochs = 11, validation_split = 0.3)"
   ]
  },
  {
   "cell_type": "code",
   "execution_count": 15,
   "id": "dated-signal",
   "metadata": {},
   "outputs": [
    {
     "data": {
      "image/png": "[encoded data removed]",
      "text/plain": [
       "<Figure size 432x288 with 1 Axes>"
      ]
     },
     "metadata": {
      "needs_background": "light"
     },
     "output_type": "display_data"
    }
   ],
   "source": [
    "plt.plot(loss.history['loss'])\n",
    "plt.plot(loss.history['val_loss'])\n",
    "plt.title('model loss')\n",
    "plt.ylabel('loss')\n",
    "plt.xlabel('epoch')\n",
    "plt.legend(['train', 'valid'], loc='upper left')\n",
    "plt.show()"
   ]
  },
  {
   "cell_type": "code",
   "execution_count": 17,
   "id": "related-assignment",
   "metadata": {},
   "outputs": [],
   "source": [
    "y_pred = ann.predict(x_test)\n",
    "y_pred = np.round(y_pred)"
   ]
  },
  {
   "cell_type": "code",
   "execution_count": 18,
   "id": "aerial-utility",
   "metadata": {},
   "outputs": [
    {
     "name": "stdout",
     "output_type": "stream",
     "text": [
      "Accuracy Score: 99.94%\n",
      "Confusion Matrix: \n",
      " [[71064    15]\n",
      " [   29    94]]\n",
      "\n",
      "MCC_Score:0.8115202118224439\n",
      "\n",
      "f1_score: \n",
      " 0.8103448275862069\n",
      "\n",
      "recall_score: \n",
      " 0.7642276422764228\n",
      "\n",
      "Precision_Score:0.8623853211009175\n"
     ]
    }
   ],
   "source": [
    "print_classification_result(y_test, y_pred)"
   ]
  },
  {
   "cell_type": "code",
   "execution_count": null,
   "id": "phantom-space",
   "metadata": {},
   "outputs": [],
   "source": []
  }
 ],
 "metadata": {
  "kernelspec": {
   "display_name": "Python 3",
   "language": "python",
   "name": "python3"
  },
  "language_info": {
   "codemirror_mode": {
    "name": "ipython",
    "version": 3
   },
   "file_extension": ".py",
   "mimetype": "text/x-python",
   "name": "python",
   "nbconvert_exporter": "python",
   "pygments_lexer": "ipython3",
   "version": "3.8.8"
  }
 },
 "nbformat": 4,
 "nbformat_minor": 5
}
